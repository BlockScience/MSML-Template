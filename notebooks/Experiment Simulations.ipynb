{
 "cells": [
  {
   "cell_type": "code",
   "execution_count": null,
   "metadata": {},
   "outputs": [],
   "source": [
    "import sys\n",
    "import os\n",
    "\n",
    "sys.path.append(os.path.abspath('..'))\n",
    "\n",
    "\n",
    "from simulation import (params_base, state_base, compute_starting_total_length, check_d_probability, post_processing_function,\n",
    "                        percent_ending_in_d_metric, average_d_count_metric, plot_length_single_simulation,\n",
    "                        experiments_map)\n",
    "\n",
    "#from math_spec_mapping import load_from_json\n",
    "\n",
    "# For development purposes\n",
    "sys.path.append(os.path.abspath('../..'))\n",
    "from MSML.src.math_spec_mapping import (load_from_json)\n",
    "\n",
    "from copy import deepcopy\n",
    "from src import math_spec_json\n",
    "\n",
    "ms = load_from_json(deepcopy(math_spec_json))\n",
    "\n",
    "experiment_names = [\"Baseline\", \"High Block Reward-Medium Transactions-50% Insider\"]\n",
    "experiments = [experiments_map[x] for x in experiment_names]\n",
    "\n",
    "\n",
    "df, metrics, state_l, params_l = ms.run_experiments(experiments,\n",
    "                    params_base,\n",
    "                    state_base,\n",
    "                    post_processing_function,\n",
    "                    state_preperation_functions=[compute_starting_total_length],\n",
    "                    parameter_preperation_functions=[check_d_probability],\n",
    "                    metrics_functions=[percent_ending_in_d_metric,\n",
    "                                        average_d_count_metric,\n",
    "                                        ])"
   ]
  },
  {
   "cell_type": "code",
   "execution_count": null,
   "metadata": {},
   "outputs": [],
   "source": []
  }
 ],
 "metadata": {
  "language_info": {
   "name": "python"
  }
 },
 "nbformat": 4,
 "nbformat_minor": 2
}
