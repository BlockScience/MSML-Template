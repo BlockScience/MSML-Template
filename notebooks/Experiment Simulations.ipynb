{
 "cells": [
  {
   "cell_type": "code",
   "execution_count": 2,
   "metadata": {},
   "outputs": [],
   "source": [
    "import sys\n",
    "import os\n",
    "\n",
    "sys.path.append(os.path.abspath('..'))\n",
    "\n",
    "\n",
    "from simulation import (params_base, state_base, compute_starting_total_length, check_d_probability, post_processing_function,\n",
    "                        percent_ending_in_d_metric, average_d_count_metric, plot_length_single_simulation,\n",
    "                        experiments_map)\n",
    "\n",
    "#from math_spec_mapping import load_from_json\n",
    "\n",
    "# For development purposes\n",
    "sys.path.append(os.path.abspath('../..'))\n",
    "from MSML.src.math_spec_mapping import (load_from_json)\n",
    "\n",
    "from copy import deepcopy\n",
    "from src import math_spec_json\n",
    "\n",
    "ms = load_from_json(deepcopy(math_spec_json))\n",
    "\n",
    "experiment_names = [\"Baseline\"]\n",
    "experiments = [experiments_map[x] for x in experiment_names]\n",
    "\n",
    "\n",
    "df, metrics, state_l, params_l = ms.run_experiments(experiments,\n",
    "                    params_base,\n",
    "                    state_base,\n",
    "                    post_processing_function,\n",
    "                    state_preperation_functions=[compute_starting_total_length],\n",
    "                    parameter_preperation_functions=[check_d_probability],\n",
    "                    metrics_functions=[percent_ending_in_d_metric,\n",
    "                                        average_d_count_metric,\n",
    "                                        ])"
   ]
  },
  {
   "cell_type": "code",
   "execution_count": 7,
   "metadata": {},
   "outputs": [
    {
     "name": "stdout",
     "output_type": "stream",
     "text": [
      "   Time    Word  Length (Multiplied)  Length (Nominal)  Monte Carlo Run  \\\n",
      "0     0                            0               0.0                1   \n",
      "1     1      CA                    6               2.0                1   \n",
      "2     2     CAA                    9               3.0                1   \n",
      "3     3   CAAAC                   15               5.0                1   \n",
      "4     4  CAAACB                   18               6.0                1   \n",
      "\n",
      "  Experiment  \n",
      "0   Baseline  \n",
      "1   Baseline  \n",
      "2   Baseline  \n",
      "3   Baseline  \n",
      "4   Baseline  \n",
      "\n",
      "\n",
      "           Percent Ending in D Average D Count Monte Carlo Run Experiment\n",
      "Baseline-1                0.06            1.02             1.0   Baseline\n",
      "Baseline-2                0.06            1.02             2.0   Baseline\n",
      "Baseline-3                0.06            0.72             3.0   Baseline\n",
      "Baseline-4                 0.1            2.08             4.0   Baseline\n",
      "Baseline-5                 0.1            1.66             5.0   Baseline\n",
      "\n",
      "\n",
      "           Percent Ending in D Average D Count\n",
      "Experiment                                    \n",
      "Baseline                 0.076             1.3\n"
     ]
    }
   ],
   "source": [
    "print(df.head(5))\n",
    "print()\n",
    "print()\n",
    "print(metrics)\n",
    "print()\n",
    "print()\n",
    "print(metrics.groupby(\"Experiment\").mean().drop(columns=['Monte Carlo Run']))"
   ]
  },
  {
   "cell_type": "code",
   "execution_count": null,
   "metadata": {},
   "outputs": [],
   "source": []
  }
 ],
 "metadata": {
  "kernelspec": {
   "display_name": "Aztec",
   "language": "python",
   "name": "python3"
  },
  "language_info": {
   "codemirror_mode": {
    "name": "ipython",
    "version": 3
   },
   "file_extension": ".py",
   "mimetype": "text/x-python",
   "name": "python",
   "nbconvert_exporter": "python",
   "pygments_lexer": "ipython3",
   "version": "3.11.8"
  }
 },
 "nbformat": 4,
 "nbformat_minor": 2
}
