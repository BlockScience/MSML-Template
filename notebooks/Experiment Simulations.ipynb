{
 "cells": [
  {
   "cell_type": "code",
   "execution_count": 3,
   "metadata": {},
   "outputs": [],
   "source": [
    "import sys\n",
    "import os\n",
    "\n",
    "sys.path.append(os.path.abspath('..'))\n",
    "\n",
    "\n",
    "from simulation import (params_base, state_base, compute_starting_total_length, check_d_probability, post_processing_function,\n",
    "                        percent_ending_in_d_metric, average_d_count_metric, plot_length_single_simulation,\n",
    "                        experiments_map)\n",
    "from IPython.display import display, Markdown\n",
    "#from math_spec_mapping import load_from_json\n",
    "\n",
    "# For development purposes\n",
    "sys.path.append(os.path.abspath('../..'))\n",
    "from MSML.src.math_spec_mapping import (load_from_json, write_initial_state_variables_tables, write_parameter_table_markdown)\n",
    "\n",
    "from copy import deepcopy\n",
    "from src import math_spec_json\n",
    "\n",
    "ms = load_from_json(deepcopy(math_spec_json))\n",
    "\n",
    "experiment_names = [\"Baseline\", \"Control Option V2 Low D Probability\", \"Control Option V2 High D Probability\"]\n",
    "experiments = [experiments_map[x] for x in experiment_names]\n",
    "\n",
    "\n",
    "df, metrics, state_l, params_l = ms.run_experiments(experiments,\n",
    "                    params_base,\n",
    "                    state_base,\n",
    "                    post_processing_function,\n",
    "                    state_preperation_functions=[compute_starting_total_length],\n",
    "                    parameter_preperation_functions=[check_d_probability],\n",
    "                    metrics_functions=[percent_ending_in_d_metric,\n",
    "                                        average_d_count_metric,\n",
    "                                        ])"
   ]
  },
  {
   "cell_type": "code",
   "execution_count": 14,
   "metadata": {},
   "outputs": [
    {
     "data": {
      "text/markdown": [
       "# Baseline State"
      ],
      "text/plain": [
       "<IPython.core.display.Markdown object>"
      ]
     },
     "metadata": {},
     "output_type": "display_data"
    },
    {
     "data": {
      "text/markdown": [
       "### Global State\n",
       "\n",
       "| Name | Description | Type | Symbol | Domain | Initial Value |\n",
       "| --- | --- | --- | --- | --- | --- |\n",
       "|Dummy|The dummy entity|Entity Type||| {'Words': '', 'Total Length': None} |\n",
       "|Time|The clock time|DUMMY Integer Type||| 0 |\n",
       "|Simulation Log|The simulation log holding historical data|Simulation Log Type||| [] |\n",
       "\n",
       "### DUMMY State\n",
       "\n",
       "| Name | Description | Type | Symbol | Domain |\n",
       "| --- | --- | --- | --- | --- |\n",
       "|Words|All words that were created|DUMMY ABCDEF Type|||\n",
       "|Total Length|The total length of words * multiplier|DUMMY Integer Type|||\n",
       "\n"
      ],
      "text/plain": [
       "<IPython.core.display.Markdown object>"
      ]
     },
     "metadata": {},
     "output_type": "display_data"
    },
    {
     "data": {
      "text/markdown": [
       "# Baseline Parameters"
      ],
      "text/plain": [
       "<IPython.core.display.Markdown object>"
      ]
     },
     "metadata": {},
     "output_type": "display_data"
    },
    {
     "data": {
      "text/markdown": [
       "| Name | Description | Parameter Class | Symbol | Domain | Initial Value |\n",
       "| --- | --- | --- | --- | --- | --- |\n",
       "|DUMMY D Probability|The probability that D is chosen|Behavioral||[0, 1]| 0.5 |\n",
       "|DUMMY Length Multiplier|A multiplier to multiply into length calculations|System||$\\mathbb{Z}$| 3 |\n"
      ],
      "text/plain": [
       "<IPython.core.display.Markdown object>"
      ]
     },
     "metadata": {},
     "output_type": "display_data"
    }
   ],
   "source": [
    "table1 = write_initial_state_variables_tables(ms, initial_values=state_base)\n",
    "table2 = write_parameter_table_markdown(ms, initial_values=params_base)\n",
    "\n",
    "display(Markdown(\"# Baseline State\"))\n",
    "display(Markdown(table1))\n",
    "display(Markdown(\"# Baseline Parameters\"))\n",
    "display(Markdown(table2))"
   ]
  },
  {
   "cell_type": "code",
   "execution_count": 2,
   "metadata": {},
   "outputs": [
    {
     "name": "stdout",
     "output_type": "stream",
     "text": [
      "   Time    Word  Length (Multiplied)  Length (Nominal)  Monte Carlo Run  \\\n",
      "0     0                            0               0.0                1   \n",
      "1     1      CC                    6               2.0                1   \n",
      "2     2     CCA                    9               3.0                1   \n",
      "3     3   CCACA                   15               5.0                1   \n",
      "4     4  CCACAB                   18               6.0                1   \n",
      "\n",
      "  Experiment  \n",
      "0   Baseline  \n",
      "1   Baseline  \n",
      "2   Baseline  \n",
      "3   Baseline  \n",
      "4   Baseline  \n",
      "\n",
      "\n",
      "                                       Percent Ending in D Average D Count  \\\n",
      "Baseline-1                                            0.06            0.42   \n",
      "Baseline-2                                            0.04            0.52   \n",
      "Baseline-3                                            0.06            0.72   \n",
      "Baseline-4                                            0.04            0.76   \n",
      "Baseline-5                                            0.06            0.84   \n",
      "Control Option V2 Low D Probability-1                 0.02             0.2   \n",
      "Control Option V2 Low D Probability-2                 0.02            0.32   \n",
      "Control Option V2 Low D Probability-3                  0.0             0.0   \n",
      "Control Option V2 Low D Probability-4                 0.02            0.38   \n",
      "Control Option V2 Low D Probability-5                 0.02            0.56   \n",
      "Control Option V2 High D Probability-1                0.18            2.46   \n",
      "Control Option V2 High D Probability-2                0.18            2.58   \n",
      "Control Option V2 High D Probability-3                0.18             2.4   \n",
      "Control Option V2 High D Probability-4                 0.2             2.9   \n",
      "Control Option V2 High D Probability-5                 0.2             2.9   \n",
      "\n",
      "                                       Monte Carlo Run  \\\n",
      "Baseline-1                                         1.0   \n",
      "Baseline-2                                         2.0   \n",
      "Baseline-3                                         3.0   \n",
      "Baseline-4                                         4.0   \n",
      "Baseline-5                                         5.0   \n",
      "Control Option V2 Low D Probability-1              1.0   \n",
      "Control Option V2 Low D Probability-2              2.0   \n",
      "Control Option V2 Low D Probability-3              3.0   \n",
      "Control Option V2 Low D Probability-4              4.0   \n",
      "Control Option V2 Low D Probability-5              5.0   \n",
      "Control Option V2 High D Probability-1             1.0   \n",
      "Control Option V2 High D Probability-2             2.0   \n",
      "Control Option V2 High D Probability-3             3.0   \n",
      "Control Option V2 High D Probability-4             4.0   \n",
      "Control Option V2 High D Probability-5             5.0   \n",
      "\n",
      "                                                                  Experiment  \n",
      "Baseline-1                                                          Baseline  \n",
      "Baseline-2                                                          Baseline  \n",
      "Baseline-3                                                          Baseline  \n",
      "Baseline-4                                                          Baseline  \n",
      "Baseline-5                                                          Baseline  \n",
      "Control Option V2 Low D Probability-1    Control Option V2 Low D Probability  \n",
      "Control Option V2 Low D Probability-2    Control Option V2 Low D Probability  \n",
      "Control Option V2 Low D Probability-3    Control Option V2 Low D Probability  \n",
      "Control Option V2 Low D Probability-4    Control Option V2 Low D Probability  \n",
      "Control Option V2 Low D Probability-5    Control Option V2 Low D Probability  \n",
      "Control Option V2 High D Probability-1  Control Option V2 High D Probability  \n",
      "Control Option V2 High D Probability-2  Control Option V2 High D Probability  \n",
      "Control Option V2 High D Probability-3  Control Option V2 High D Probability  \n",
      "Control Option V2 High D Probability-4  Control Option V2 High D Probability  \n",
      "Control Option V2 High D Probability-5  Control Option V2 High D Probability  \n",
      "\n",
      "\n",
      "                                     Percent Ending in D Average D Count\n",
      "Experiment                                                              \n",
      "Baseline                                           0.052           0.652\n",
      "Control Option V2 High D Probability               0.188           2.648\n",
      "Control Option V2 Low D Probability                0.016           0.292\n"
     ]
    }
   ],
   "source": [
    "print(df.head(5))\n",
    "print()\n",
    "print()\n",
    "print(metrics)\n",
    "print()\n",
    "print()\n",
    "print(metrics.groupby(\"Experiment\").mean().drop(columns=['Monte Carlo Run']))"
   ]
  },
  {
   "cell_type": "code",
   "execution_count": null,
   "metadata": {},
   "outputs": [],
   "source": []
  }
 ],
 "metadata": {
  "kernelspec": {
   "display_name": "Aztec",
   "language": "python",
   "name": "python3"
  },
  "language_info": {
   "codemirror_mode": {
    "name": "ipython",
    "version": 3
   },
   "file_extension": ".py",
   "mimetype": "text/x-python",
   "name": "python",
   "nbconvert_exporter": "python",
   "pygments_lexer": "ipython3",
   "version": "3.11.8"
  }
 },
 "nbformat": 4,
 "nbformat_minor": 2
}
