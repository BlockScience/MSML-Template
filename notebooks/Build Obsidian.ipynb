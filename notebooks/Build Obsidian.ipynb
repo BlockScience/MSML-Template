{
 "cells": [
  {
   "cell_type": "code",
   "execution_count": 1,
   "metadata": {},
   "outputs": [
    {
     "ename": "KeyError",
     "evalue": "'Dummy Space 2'",
     "output_type": "error",
     "traceback": [
      "\u001b[0;31m---------------------------------------------------------------------------\u001b[0m",
      "\u001b[0;31mKeyError\u001b[0m                                  Traceback (most recent call last)",
      "Cell \u001b[0;32mIn[1], line 15\u001b[0m\n\u001b[1;32m     13\u001b[0m \u001b[38;5;28;01mfrom\u001b[39;00m \u001b[38;5;21;01msrc\u001b[39;00m \u001b[38;5;28;01mimport\u001b[39;00m math_spec_json\n\u001b[1;32m     14\u001b[0m \u001b[38;5;28;01mfrom\u001b[39;00m \u001b[38;5;21;01mcopy\u001b[39;00m \u001b[38;5;28;01mimport\u001b[39;00m deepcopy\n\u001b[0;32m---> 15\u001b[0m ms \u001b[38;5;241m=\u001b[39m load_from_json(deepcopy(math_spec_json))\n",
      "File \u001b[0;32m~/opt/anaconda3/envs/Aztec/lib/python3.11/site-packages/math_spec_mapping/Load/load.py:50\u001b[0m, in \u001b[0;36mload_from_json\u001b[0;34m(json)\u001b[0m\n\u001b[1;32m     48\u001b[0m load_boundary_actions(ms, json)\n\u001b[1;32m     49\u001b[0m load_control_actions(ms, json)\n\u001b[0;32m---> 50\u001b[0m state_update_transmission_channels \u001b[38;5;241m=\u001b[39m load_mechanisms(ms, json)\n\u001b[1;32m     51\u001b[0m load_parameters(ms, json)\n\u001b[1;32m     52\u001b[0m load_policies(ms, json)\n",
      "File \u001b[0;32m~/opt/anaconda3/envs/Aztec/lib/python3.11/site-packages/math_spec_mapping/Load/mechanism.py:69\u001b[0m, in \u001b[0;36mload_mechanisms\u001b[0;34m(ms, json)\u001b[0m\n\u001b[1;32m     67\u001b[0m state_update_transmission_channels \u001b[38;5;241m=\u001b[39m []\n\u001b[1;32m     68\u001b[0m \u001b[38;5;28;01mfor\u001b[39;00m m \u001b[38;5;129;01min\u001b[39;00m json[\u001b[38;5;124m\"\u001b[39m\u001b[38;5;124mMechanisms\u001b[39m\u001b[38;5;124m\"\u001b[39m]:\n\u001b[0;32m---> 69\u001b[0m     ms[\u001b[38;5;124m\"\u001b[39m\u001b[38;5;124mMechanisms\u001b[39m\u001b[38;5;124m\"\u001b[39m][m[\u001b[38;5;124m\"\u001b[39m\u001b[38;5;124mname\u001b[39m\u001b[38;5;124m\"\u001b[39m]], new_channels \u001b[38;5;241m=\u001b[39m convert_mechanism(m, ms)\n\u001b[1;32m     70\u001b[0m     state_update_transmission_channels\u001b[38;5;241m.\u001b[39mextend(new_channels)\n\u001b[1;32m     71\u001b[0m \u001b[38;5;28;01mreturn\u001b[39;00m state_update_transmission_channels\n",
      "File \u001b[0;32m~/opt/anaconda3/envs/Aztec/lib/python3.11/site-packages/math_spec_mapping/Load/mechanism.py:44\u001b[0m, in \u001b[0;36mconvert_mechanism\u001b[0;34m(data, ms)\u001b[0m\n\u001b[1;32m     34\u001b[0m \u001b[38;5;28;01mfor\u001b[39;00m x \u001b[38;5;129;01min\u001b[39;00m updates:\n\u001b[1;32m     35\u001b[0m     new_channels\u001b[38;5;241m.\u001b[39mappend(\n\u001b[1;32m     36\u001b[0m         {\n\u001b[1;32m     37\u001b[0m             \u001b[38;5;124m\"\u001b[39m\u001b[38;5;124morigin\u001b[39m\u001b[38;5;124m\"\u001b[39m: data[\u001b[38;5;124m\"\u001b[39m\u001b[38;5;124mname\u001b[39m\u001b[38;5;124m\"\u001b[39m],\n\u001b[0;32m   (...)\u001b[0m\n\u001b[1;32m     41\u001b[0m         }\n\u001b[1;32m     42\u001b[0m     )\n\u001b[0;32m---> 44\u001b[0m data[\u001b[38;5;124m\"\u001b[39m\u001b[38;5;124mdomain\u001b[39m\u001b[38;5;124m\"\u001b[39m] \u001b[38;5;241m=\u001b[39m \u001b[38;5;28mtuple\u001b[39m(ms[\u001b[38;5;124m\"\u001b[39m\u001b[38;5;124mSpaces\u001b[39m\u001b[38;5;124m\"\u001b[39m][x] \u001b[38;5;28;01mfor\u001b[39;00m x \u001b[38;5;129;01min\u001b[39;00m data[\u001b[38;5;124m\"\u001b[39m\u001b[38;5;124mdomain\u001b[39m\u001b[38;5;124m\"\u001b[39m])\n\u001b[1;32m     45\u001b[0m data[\u001b[38;5;124m\"\u001b[39m\u001b[38;5;124mimplementations\u001b[39m\u001b[38;5;124m\"\u001b[39m] \u001b[38;5;241m=\u001b[39m {}\n\u001b[1;32m     47\u001b[0m \u001b[38;5;28;01mif\u001b[39;00m \u001b[38;5;124m\"\u001b[39m\u001b[38;5;124mpython\u001b[39m\u001b[38;5;124m\"\u001b[39m \u001b[38;5;129;01min\u001b[39;00m ms[\u001b[38;5;124m\"\u001b[39m\u001b[38;5;124mImplementations\u001b[39m\u001b[38;5;124m\"\u001b[39m]:\n",
      "File \u001b[0;32m~/opt/anaconda3/envs/Aztec/lib/python3.11/site-packages/math_spec_mapping/Load/mechanism.py:44\u001b[0m, in \u001b[0;36m<genexpr>\u001b[0;34m(.0)\u001b[0m\n\u001b[1;32m     34\u001b[0m \u001b[38;5;28;01mfor\u001b[39;00m x \u001b[38;5;129;01min\u001b[39;00m updates:\n\u001b[1;32m     35\u001b[0m     new_channels\u001b[38;5;241m.\u001b[39mappend(\n\u001b[1;32m     36\u001b[0m         {\n\u001b[1;32m     37\u001b[0m             \u001b[38;5;124m\"\u001b[39m\u001b[38;5;124morigin\u001b[39m\u001b[38;5;124m\"\u001b[39m: data[\u001b[38;5;124m\"\u001b[39m\u001b[38;5;124mname\u001b[39m\u001b[38;5;124m\"\u001b[39m],\n\u001b[0;32m   (...)\u001b[0m\n\u001b[1;32m     41\u001b[0m         }\n\u001b[1;32m     42\u001b[0m     )\n\u001b[0;32m---> 44\u001b[0m data[\u001b[38;5;124m\"\u001b[39m\u001b[38;5;124mdomain\u001b[39m\u001b[38;5;124m\"\u001b[39m] \u001b[38;5;241m=\u001b[39m \u001b[38;5;28mtuple\u001b[39m(ms[\u001b[38;5;124m\"\u001b[39m\u001b[38;5;124mSpaces\u001b[39m\u001b[38;5;124m\"\u001b[39m][x] \u001b[38;5;28;01mfor\u001b[39;00m x \u001b[38;5;129;01min\u001b[39;00m data[\u001b[38;5;124m\"\u001b[39m\u001b[38;5;124mdomain\u001b[39m\u001b[38;5;124m\"\u001b[39m])\n\u001b[1;32m     45\u001b[0m data[\u001b[38;5;124m\"\u001b[39m\u001b[38;5;124mimplementations\u001b[39m\u001b[38;5;124m\"\u001b[39m] \u001b[38;5;241m=\u001b[39m {}\n\u001b[1;32m     47\u001b[0m \u001b[38;5;28;01mif\u001b[39;00m \u001b[38;5;124m\"\u001b[39m\u001b[38;5;124mpython\u001b[39m\u001b[38;5;124m\"\u001b[39m \u001b[38;5;129;01min\u001b[39;00m ms[\u001b[38;5;124m\"\u001b[39m\u001b[38;5;124mImplementations\u001b[39m\u001b[38;5;124m\"\u001b[39m]:\n",
      "\u001b[0;31mKeyError\u001b[0m: 'Dummy Space 2'"
     ]
    }
   ],
   "source": [
    "import sys\n",
    "import os\n",
    "\n",
    "sys.path.append(os.path.abspath('..'))\n",
    "\n",
    "\n",
    "from math_spec_mapping import (load_from_json, create_action_chains_graph, write_out_boundary_actions,\n",
    "                      write_out_policies, write_out_mechanisms, load_svg_graphviz, write_basic_report_full,\n",
    "                      write_action_chain_reports, write_spec_tree, write_parameter_table,  create_parameter_impact_table,\n",
    "                     write_entity_reports, write_wiring_report, write_entity_markdown_report,\n",
    "                     write_all_markdown_reports)\n",
    "from IPython.display import display, display_html\n",
    "from src import math_spec_json\n",
    "from copy import deepcopy\n",
    "ms = load_from_json(deepcopy(math_spec_json))"
   ]
  },
  {
   "cell_type": "code",
   "execution_count": null,
   "metadata": {},
   "outputs": [],
   "source": []
  }
 ],
 "metadata": {
  "kernelspec": {
   "display_name": "Aztec",
   "language": "python",
   "name": "python3"
  },
  "language_info": {
   "codemirror_mode": {
    "name": "ipython",
    "version": 3
   },
   "file_extension": ".py",
   "mimetype": "text/x-python",
   "name": "python",
   "nbconvert_exporter": "python",
   "pygments_lexer": "ipython3",
   "version": "3.11.8"
  }
 },
 "nbformat": 4,
 "nbformat_minor": 2
}
