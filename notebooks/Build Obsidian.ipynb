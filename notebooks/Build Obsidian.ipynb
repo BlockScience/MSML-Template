{
 "cells": [
  {
   "cell_type": "code",
   "execution_count": 1,
   "metadata": {},
   "outputs": [
    {
     "ename": "AssertionError",
     "evalue": "Dummy Boundary Action is not defined in the spec",
     "output_type": "error",
     "traceback": [
      "\u001b[0;31m---------------------------------------------------------------------------\u001b[0m",
      "\u001b[0;31mAssertionError\u001b[0m                            Traceback (most recent call last)",
      "Cell \u001b[0;32mIn[1], line 15\u001b[0m\n\u001b[1;32m     13\u001b[0m \u001b[38;5;28;01mfrom\u001b[39;00m \u001b[38;5;21;01msrc\u001b[39;00m \u001b[38;5;28;01mimport\u001b[39;00m math_spec_json\n\u001b[1;32m     14\u001b[0m \u001b[38;5;28;01mfrom\u001b[39;00m \u001b[38;5;21;01mcopy\u001b[39;00m \u001b[38;5;28;01mimport\u001b[39;00m deepcopy\n\u001b[0;32m---> 15\u001b[0m ms \u001b[38;5;241m=\u001b[39m load_from_json(deepcopy(math_spec_json))\n",
      "File \u001b[0;32m~/opt/anaconda3/envs/Aztec/lib/python3.11/site-packages/math_spec_mapping/Load/load.py:60\u001b[0m, in \u001b[0;36mload_from_json\u001b[0;34m(json)\u001b[0m\n\u001b[1;32m     57\u001b[0m     \u001b[38;5;28;01mfor\u001b[39;00m y \u001b[38;5;129;01min\u001b[39;00m ms[\u001b[38;5;124m\"\u001b[39m\u001b[38;5;124mStateful Metrics\u001b[39m\u001b[38;5;124m\"\u001b[39m][x]\u001b[38;5;241m.\u001b[39mmetrics:\n\u001b[1;32m     58\u001b[0m         stateful_metrics_map[y\u001b[38;5;241m.\u001b[39mname] \u001b[38;5;241m=\u001b[39m y\n\u001b[0;32m---> 60\u001b[0m action_transmission_channels \u001b[38;5;241m=\u001b[39m load_wiring(ms, json)\n\u001b[1;32m     61\u001b[0m load_action_transmission_channels(ms, action_transmission_channels)\n\u001b[1;32m     62\u001b[0m load_state_update_transmission_channels(ms, state_update_transmission_channels)\n",
      "File \u001b[0;32m~/opt/anaconda3/envs/Aztec/lib/python3.11/site-packages/math_spec_mapping/Load/wiring.py:96\u001b[0m, in \u001b[0;36mload_wiring\u001b[0;34m(ms, json)\u001b[0m\n\u001b[1;32m     93\u001b[0m     \u001b[38;5;28;01mfor\u001b[39;00m y \u001b[38;5;129;01min\u001b[39;00m wiring:\n\u001b[1;32m     94\u001b[0m         \u001b[38;5;28;01mfor\u001b[39;00m z \u001b[38;5;129;01min\u001b[39;00m y[\u001b[38;5;124m\"\u001b[39m\u001b[38;5;124mcomponents\u001b[39m\u001b[38;5;124m\"\u001b[39m]:\n\u001b[1;32m     95\u001b[0m             \u001b[38;5;28;01massert\u001b[39;00m (\n\u001b[0;32m---> 96\u001b[0m                 z \u001b[38;5;129;01min\u001b[39;00m ms[\u001b[38;5;124m\"\u001b[39m\u001b[38;5;124mBlocks\u001b[39m\u001b[38;5;124m\"\u001b[39m] \u001b[38;5;129;01mor\u001b[39;00m z \u001b[38;5;129;01min\u001b[39;00m names\n\u001b[1;32m     97\u001b[0m             ), \u001b[38;5;124m\"\u001b[39m\u001b[38;5;132;01m{}\u001b[39;00m\u001b[38;5;124m is not defined in the spec\u001b[39m\u001b[38;5;124m\"\u001b[39m\u001b[38;5;241m.\u001b[39mformat(z)\n\u001b[1;32m     98\u001b[0m     \u001b[38;5;28;01massert\u001b[39;00m \u001b[38;5;28mlen\u001b[39m(wiring) \u001b[38;5;241m==\u001b[39m \u001b[38;5;241m0\u001b[39m, \u001b[38;5;124m\"\u001b[39m\u001b[38;5;124mThere are circular references\u001b[39m\u001b[38;5;124m\"\u001b[39m\n\u001b[1;32m     99\u001b[0m action_transmission_channels \u001b[38;5;241m=\u001b[39m filter_atc(action_transmission_channels)\n",
      "\u001b[0;31mAssertionError\u001b[0m: Dummy Boundary Action is not defined in the spec"
     ]
    }
   ],
   "source": [
    "import sys\n",
    "import os\n",
    "\n",
    "sys.path.append(os.path.abspath('..'))\n",
    "\n",
    "\n",
    "from math_spec_mapping import (load_from_json, create_action_chains_graph, write_out_boundary_actions,\n",
    "                      write_out_policies, write_out_mechanisms, load_svg_graphviz, write_basic_report_full,\n",
    "                      write_action_chain_reports, write_spec_tree, write_parameter_table,  create_parameter_impact_table,\n",
    "                     write_entity_reports, write_wiring_report, write_entity_markdown_report,\n",
    "                     write_all_markdown_reports)\n",
    "from IPython.display import display, display_html\n",
    "from src import math_spec_json\n",
    "from copy import deepcopy\n",
    "ms = load_from_json(deepcopy(math_spec_json))"
   ]
  },
  {
   "cell_type": "code",
   "execution_count": null,
   "metadata": {},
   "outputs": [],
   "source": []
  }
 ],
 "metadata": {
  "kernelspec": {
   "display_name": "Aztec",
   "language": "python",
   "name": "python3"
  },
  "language_info": {
   "codemirror_mode": {
    "name": "ipython",
    "version": 3
   },
   "file_extension": ".py",
   "mimetype": "text/x-python",
   "name": "python",
   "nbconvert_exporter": "python",
   "pygments_lexer": "ipython3",
   "version": "3.11.8"
  }
 },
 "nbformat": 4,
 "nbformat_minor": 2
}
