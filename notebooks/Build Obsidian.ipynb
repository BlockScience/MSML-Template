{
 "cells": [
  {
   "cell_type": "code",
   "execution_count": 1,
   "metadata": {},
   "outputs": [
    {
     "ename": "AssertionError",
     "evalue": "State 'Dummy State' from variables used not in states",
     "output_type": "error",
     "traceback": [
      "\u001b[0;31m---------------------------------------------------------------------------\u001b[0m",
      "\u001b[0;31mAssertionError\u001b[0m                            Traceback (most recent call last)",
      "Cell \u001b[0;32mIn[1], line 15\u001b[0m\n\u001b[1;32m     13\u001b[0m \u001b[38;5;28;01mfrom\u001b[39;00m \u001b[38;5;21;01msrc\u001b[39;00m \u001b[38;5;28;01mimport\u001b[39;00m math_spec_json\n\u001b[1;32m     14\u001b[0m \u001b[38;5;28;01mfrom\u001b[39;00m \u001b[38;5;21;01mcopy\u001b[39;00m \u001b[38;5;28;01mimport\u001b[39;00m deepcopy\n\u001b[0;32m---> 15\u001b[0m ms \u001b[38;5;241m=\u001b[39m load_from_json(deepcopy(math_spec_json))\n",
      "File \u001b[0;32m~/opt/anaconda3/envs/Aztec/lib/python3.11/site-packages/math_spec_mapping/Load/load.py:53\u001b[0m, in \u001b[0;36mload_from_json\u001b[0;34m(json)\u001b[0m\n\u001b[1;32m     51\u001b[0m load_parameters(ms, json)\n\u001b[1;32m     52\u001b[0m load_policies(ms, json)\n\u001b[0;32m---> 53\u001b[0m load_stateful_metrics(ms, json)\n\u001b[1;32m     55\u001b[0m stateful_metrics_map \u001b[38;5;241m=\u001b[39m {}\n\u001b[1;32m     56\u001b[0m \u001b[38;5;28;01mfor\u001b[39;00m x \u001b[38;5;129;01min\u001b[39;00m ms[\u001b[38;5;124m\"\u001b[39m\u001b[38;5;124mStateful Metrics\u001b[39m\u001b[38;5;124m\"\u001b[39m]:\n",
      "File \u001b[0;32m~/opt/anaconda3/envs/Aztec/lib/python3.11/site-packages/math_spec_mapping/Load/stateful_metrics.py:69\u001b[0m, in \u001b[0;36mload_stateful_metrics\u001b[0;34m(ms, json)\u001b[0m\n\u001b[1;32m     67\u001b[0m check \u001b[38;5;241m=\u001b[39m []\n\u001b[1;32m     68\u001b[0m \u001b[38;5;28;01mfor\u001b[39;00m sm \u001b[38;5;129;01min\u001b[39;00m json[\u001b[38;5;124m\"\u001b[39m\u001b[38;5;124mStateful Metrics\u001b[39m\u001b[38;5;124m\"\u001b[39m]:\n\u001b[0;32m---> 69\u001b[0m     ms[\u001b[38;5;124m\"\u001b[39m\u001b[38;5;124mStateful Metrics\u001b[39m\u001b[38;5;124m\"\u001b[39m][sm[\u001b[38;5;124m\"\u001b[39m\u001b[38;5;124mname\u001b[39m\u001b[38;5;124m\"\u001b[39m]] \u001b[38;5;241m=\u001b[39m convert_stateful_metric(ms, sm)\n\u001b[1;32m     70\u001b[0m     \u001b[38;5;28;01mfor\u001b[39;00m x \u001b[38;5;129;01min\u001b[39;00m ms[\u001b[38;5;124m\"\u001b[39m\u001b[38;5;124mStateful Metrics\u001b[39m\u001b[38;5;124m\"\u001b[39m][sm[\u001b[38;5;124m\"\u001b[39m\u001b[38;5;124mname\u001b[39m\u001b[38;5;124m\"\u001b[39m]]\u001b[38;5;241m.\u001b[39mmetrics:\n\u001b[1;32m     71\u001b[0m         \u001b[38;5;28;01massert\u001b[39;00m x\u001b[38;5;241m.\u001b[39mname \u001b[38;5;129;01mnot\u001b[39;00m \u001b[38;5;129;01min\u001b[39;00m check, \u001b[38;5;124m\"\u001b[39m\u001b[38;5;132;01m{}\u001b[39;00m\u001b[38;5;124m stateful metric name is repeated\u001b[39m\u001b[38;5;124m\"\u001b[39m\n",
      "File \u001b[0;32m~/opt/anaconda3/envs/Aztec/lib/python3.11/site-packages/math_spec_mapping/Load/stateful_metrics.py:34\u001b[0m, in \u001b[0;36mconvert_stateful_metric\u001b[0;34m(ms, data)\u001b[0m\n\u001b[1;32m     31\u001b[0m \u001b[38;5;28;01massert\u001b[39;00m \u001b[38;5;28mtype\u001b[39m(x) \u001b[38;5;241m==\u001b[39m \u001b[38;5;28mtuple\u001b[39m, \u001b[38;5;124m\"\u001b[39m\u001b[38;5;124mVariables used is not tuple\u001b[39m\u001b[38;5;124m\"\u001b[39m\n\u001b[1;32m     32\u001b[0m \u001b[38;5;28;01massert\u001b[39;00m \u001b[38;5;28mlen\u001b[39m(x) \u001b[38;5;241m==\u001b[39m \u001b[38;5;241m2\u001b[39m, \u001b[38;5;124m\"\u001b[39m\u001b[38;5;124mLength of variables used is not 2\u001b[39m\u001b[38;5;124m\"\u001b[39m\n\u001b[1;32m     33\u001b[0m \u001b[38;5;28;01massert\u001b[39;00m (\n\u001b[0;32m---> 34\u001b[0m     x[\u001b[38;5;241m0\u001b[39m] \u001b[38;5;129;01min\u001b[39;00m ms[\u001b[38;5;124m\"\u001b[39m\u001b[38;5;124mState\u001b[39m\u001b[38;5;124m\"\u001b[39m]\n\u001b[1;32m     35\u001b[0m ), \u001b[38;5;124m\"\u001b[39m\u001b[38;5;124mState \u001b[39m\u001b[38;5;124m'\u001b[39m\u001b[38;5;132;01m{}\u001b[39;00m\u001b[38;5;124m'\u001b[39m\u001b[38;5;124m from variables used not in states\u001b[39m\u001b[38;5;124m\"\u001b[39m\u001b[38;5;241m.\u001b[39mformat(x[\u001b[38;5;241m0\u001b[39m])\n\u001b[1;32m     36\u001b[0m vm \u001b[38;5;241m=\u001b[39m ms[\u001b[38;5;124m\"\u001b[39m\u001b[38;5;124mState\u001b[39m\u001b[38;5;124m\"\u001b[39m][x[\u001b[38;5;241m0\u001b[39m]]\u001b[38;5;241m.\u001b[39mvariable_map\n\u001b[1;32m     37\u001b[0m \u001b[38;5;28;01massert\u001b[39;00m (\n\u001b[1;32m     38\u001b[0m     x[\u001b[38;5;241m1\u001b[39m] \u001b[38;5;129;01min\u001b[39;00m vm\n\u001b[1;32m     39\u001b[0m ), \u001b[38;5;124m\"\u001b[39m\u001b[38;5;124mVariable \u001b[39m\u001b[38;5;124m'\u001b[39m\u001b[38;5;132;01m{}\u001b[39;00m\u001b[38;5;124m'\u001b[39m\u001b[38;5;124m not in variable map for stateful metrics variables used\u001b[39m\u001b[38;5;124m\"\u001b[39m\u001b[38;5;241m.\u001b[39mformat(\n\u001b[1;32m     40\u001b[0m     x[\u001b[38;5;241m1\u001b[39m]\n\u001b[1;32m     41\u001b[0m )\n",
      "\u001b[0;31mAssertionError\u001b[0m: State 'Dummy State' from variables used not in states"
     ]
    }
   ],
   "source": [
    "import sys\n",
    "import os\n",
    "\n",
    "sys.path.append(os.path.abspath('..'))\n",
    "\n",
    "\n",
    "from math_spec_mapping import (load_from_json, create_action_chains_graph, write_out_boundary_actions,\n",
    "                      write_out_policies, write_out_mechanisms, load_svg_graphviz, write_basic_report_full,\n",
    "                      write_action_chain_reports, write_spec_tree, write_parameter_table,  create_parameter_impact_table,\n",
    "                     write_entity_reports, write_wiring_report, write_entity_markdown_report,\n",
    "                     write_all_markdown_reports)\n",
    "from IPython.display import display, display_html\n",
    "from src import math_spec_json\n",
    "from copy import deepcopy\n",
    "ms = load_from_json(deepcopy(math_spec_json))"
   ]
  },
  {
   "cell_type": "code",
   "execution_count": null,
   "metadata": {},
   "outputs": [],
   "source": []
  }
 ],
 "metadata": {
  "kernelspec": {
   "display_name": "Aztec",
   "language": "python",
   "name": "python3"
  },
  "language_info": {
   "codemirror_mode": {
    "name": "ipython",
    "version": 3
   },
   "file_extension": ".py",
   "mimetype": "text/x-python",
   "name": "python",
   "nbconvert_exporter": "python",
   "pygments_lexer": "ipython3",
   "version": "3.11.8"
  }
 },
 "nbformat": 4,
 "nbformat_minor": 2
}
