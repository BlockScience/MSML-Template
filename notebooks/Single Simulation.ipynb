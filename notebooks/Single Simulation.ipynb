{
 "cells": [
  {
   "cell_type": "code",
   "execution_count": 1,
   "metadata": {},
   "outputs": [],
   "source": [
    "import sys\n",
    "import os\n",
    "\n",
    "sys.path.append(os.path.abspath('..'))\n",
    "\n",
    "\n",
    "from simulation import (params_base, state_base, compute_starting_total_length, check_d_probability, post_processing_function,\n",
    "                        percent_ending_in_d_metric, average_d_count_metric)\n",
    "\n",
    "#from math_spec_mapping import load_from_json\n",
    "\n",
    "# For development purposes\n",
    "sys.path.append(os.path.abspath('../..'))\n",
    "from MSML.src.math_spec_mapping import (load_from_json)\n",
    "\n",
    "from copy import deepcopy\n",
    "from src import math_spec_json\n",
    "\n",
    "ms = load_from_json(deepcopy(math_spec_json))\n",
    "\n",
    "# Start by logging the starting state\n",
    "blocks = [\"DUMMY Log Simulation Data Mechanism\"]\n",
    "\n",
    "# Add in 20 blocks alternating between the 2 boundary action wirings\n",
    "blocks.extend([\"DUMMY Length-2 Boundary Wiring\",\n",
    "               \"DUMMY Length-1 Boundary Wiring\"] * 10)\n",
    "\n",
    "# Add in 30 blocks alternating between the 2 boundary action wirings and the control action wirings\n",
    "blocks.extend([\"DUMMY Length-2 Boundary Wiring\",\n",
    "               \"DUMMY Length-1 Boundary Wiring\",\n",
    "               \"DUMMY Control Wiring\"] * 10)\n",
    "\n",
    "# Define an experiment\n",
    "experiment = {\"Name\": \"Baseline\",\n",
    "               \"Param Modifications\": {\"FP DUMMY Length-1 DEF Control Action\": \"DUMMY Length-1 DEF D Probability Option\"},\n",
    "               \"State Modifications\": {\"Dummy\": {\"Words\": \"AA\",\n",
    "                                                 \"Total Length\": 1 # This is incorrect but we will see that it is in fact corrected by the state preperation function\n",
    "                                                 }},\n",
    "               \"Blocks\": blocks}\n",
    "\n",
    "state, params, msi, df, metrics= ms.run_experiment(experiment,\n",
    "                  params_base,\n",
    "                  state_base,\n",
    "                  post_processing_function,\n",
    "                  state_preperation_functions=[compute_starting_total_length],\n",
    "                  parameter_preperation_functions=[check_d_probability],\n",
    "                  metrics_functions=[percent_ending_in_d_metric,\n",
    "                                     average_d_count_metric])"
   ]
  },
  {
   "cell_type": "code",
   "execution_count": 2,
   "metadata": {},
   "outputs": [
    {
     "name": "stdout",
     "output_type": "stream",
     "text": [
      "   Time      Word  Length (Multiplied)  Length (Nominal)\n",
      "0     0        AA                    6               2.0\n",
      "1     1      AAAC                   12               4.0\n",
      "2     2     AAACC                   15               5.0\n",
      "3     3   AAACCCC                   21               7.0\n",
      "4     4  AAACCCCA                   24               8.0\n",
      "\n",
      "\n",
      "Percent Ending in D    0.058824\n",
      "Average D Count        0.647059\n",
      "dtype: float64\n"
     ]
    }
   ],
   "source": [
    "print(df.head(5))\n",
    "print()\n",
    "print()\n",
    "print(metrics)"
   ]
  },
  {
   "cell_type": "code",
   "execution_count": null,
   "metadata": {},
   "outputs": [],
   "source": []
  }
 ],
 "metadata": {
  "kernelspec": {
   "display_name": "Aztec",
   "language": "python",
   "name": "python3"
  },
  "language_info": {
   "codemirror_mode": {
    "name": "ipython",
    "version": 3
   },
   "file_extension": ".py",
   "mimetype": "text/x-python",
   "name": "python",
   "nbconvert_exporter": "python",
   "pygments_lexer": "ipython3",
   "version": "3.11.8"
  }
 },
 "nbformat": 4,
 "nbformat_minor": 2
}
