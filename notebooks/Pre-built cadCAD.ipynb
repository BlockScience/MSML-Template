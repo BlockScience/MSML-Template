{
 "cells": [
  {
   "cell_type": "markdown",
   "metadata": {},
   "source": [
    "# Pre-built cadCAD Models\n",
    "\n",
    "This notebook shows how a data scientist can take cadCAD models \"off the rack\" from an MSML dev without ever needing to get into the details."
   ]
  },
  {
   "cell_type": "code",
   "execution_count": 2,
   "metadata": {},
   "outputs": [],
   "source": [
    "import sys\n",
    "import os\n",
    "\n",
    "sys.path.append(os.path.abspath('..'))\n",
    "\n",
    "from cadCADModels import cadCAD_models"
   ]
  },
  {
   "cell_type": "markdown",
   "metadata": {},
   "source": [
    "## Models\n",
    "\n",
    "We have the different models that the MSML dev has created which we can import simply by pulling in cadCAD_models. Each comes with its state space, parameter space, and the model that actually runs the simulation.\n",
    "\n",
    "We have two options here, Model 1 and Model 2 which can be toggled between. The only difference is model 2 only has two of the blocks used."
   ]
  },
  {
   "cell_type": "code",
   "execution_count": 21,
   "metadata": {},
   "outputs": [
    {
     "name": "stdout",
     "output_type": "stream",
     "text": [
      "Model blocks: ['DUMMY Length-2 Boundary Wiring', 'DUMMY Length-1 Boundary Wiring', 'DUMMY Control Wiring']\n",
      "\n",
      "Model state space:\n"
     ]
    },
    {
     "data": {
      "text/plain": [
       "{'Dummy': src.TypeMappings.types.EntityType,\n",
       " 'Time': int,\n",
       " 'Simulation Log': typing.List[src.TypeMappings.types.SimulationLogEntry]}"
      ]
     },
     "metadata": {},
     "output_type": "display_data"
    },
    {
     "name": "stdout",
     "output_type": "stream",
     "text": [
      "\n",
      "Model parameter space:\n"
     ]
    },
    {
     "data": {
      "text/plain": [
       "{'DUMMY D Probability': float,\n",
       " 'DUMMY Length Multiplier': int,\n",
       " 'FP DUMMY Length-2 ABC Combo Boundary Action': typing.Literal['DUMMY Length-2 ABC Equal Weight Option', 'DUMMY Length-2 ABC Equal Weight 2 Option'],\n",
       " 'FP DUMMY Length-1 DEF Control Action': typing.Literal['DUMMY Length-1 DEF Equal Weight Option', 'DUMMY Length-1 DEF D Probability Option']}"
      ]
     },
     "metadata": {},
     "output_type": "display_data"
    }
   ],
   "source": [
    "# Get model components\n",
    "model_name = \"Model 1\"\n",
    "state_space = cadCAD_models[model_name][\"StateSpace\"]\n",
    "parameter_space = cadCAD_models[model_name][\"ParameterSpace\"]\n",
    "model = cadCAD_models[model_name][\"Model\"]\n",
    "\n",
    "# Printing model data\n",
    "print(\"Model blocks: {}\".format(model.blocks))\n",
    "print()\n",
    "print(\"Model state space:\")\n",
    "display(state_space)\n",
    "print()\n",
    "print(\"Model parameter space:\")\n",
    "display(parameter_space)"
   ]
  },
  {
   "cell_type": "markdown",
   "metadata": {},
   "source": [
    "### Single Experiment\n",
    "\n",
    "A single experiment is as easily run as below. We use deepcopy and recording of trajectories but we can also switch them off if we want to just simply take the ending state and use something like a simulation log to record the data.\n",
    "\n",
    "Please note that this version does have a simulation log, but it can be ignored as we are doing a logging at each step with deepcopy of the entire state."
   ]
  },
  {
   "cell_type": "code",
   "execution_count": 24,
   "metadata": {},
   "outputs": [
    {
     "name": "stdout",
     "output_type": "stream",
     "text": [
      "The last two trajectories:\n"
     ]
    },
    {
     "data": {
      "text/plain": [
       "[{'Dummy': {'Words': 'CACEABBFACCDBACD', 'Total Length': 48},\n",
       "  'Time': 12,\n",
       "  'Simulation Log': [{'Time': 1, 'Word': 'CA', 'Length (Multiplied)': 6},\n",
       "   {'Time': 2, 'Word': 'CAC', 'Length (Multiplied)': 9},\n",
       "   {'Time': 3, 'Word': 'CACE', 'Length (Multiplied)': 12},\n",
       "   {'Time': 4, 'Word': 'CACEAB', 'Length (Multiplied)': 18},\n",
       "   {'Time': 5, 'Word': 'CACEABB', 'Length (Multiplied)': 21},\n",
       "   {'Time': 6, 'Word': 'CACEABBF', 'Length (Multiplied)': 24},\n",
       "   {'Time': 7, 'Word': 'CACEABBFAC', 'Length (Multiplied)': 30},\n",
       "   {'Time': 8, 'Word': 'CACEABBFACC', 'Length (Multiplied)': 33},\n",
       "   {'Time': 9, 'Word': 'CACEABBFACCD', 'Length (Multiplied)': 36},\n",
       "   {'Time': 10, 'Word': 'CACEABBFACCDBA', 'Length (Multiplied)': 42},\n",
       "   {'Time': 11, 'Word': 'CACEABBFACCDBAC', 'Length (Multiplied)': 45},\n",
       "   {'Time': 12, 'Word': 'CACEABBFACCDBACD', 'Length (Multiplied)': 48}]},\n",
       " {'Dummy': {'Words': 'CACEABBFACCDBACDBACD', 'Total Length': 60},\n",
       "  'Time': 15,\n",
       "  'Simulation Log': [{'Time': 1, 'Word': 'CA', 'Length (Multiplied)': 6},\n",
       "   {'Time': 2, 'Word': 'CAC', 'Length (Multiplied)': 9},\n",
       "   {'Time': 3, 'Word': 'CACE', 'Length (Multiplied)': 12},\n",
       "   {'Time': 4, 'Word': 'CACEAB', 'Length (Multiplied)': 18},\n",
       "   {'Time': 5, 'Word': 'CACEABB', 'Length (Multiplied)': 21},\n",
       "   {'Time': 6, 'Word': 'CACEABBF', 'Length (Multiplied)': 24},\n",
       "   {'Time': 7, 'Word': 'CACEABBFAC', 'Length (Multiplied)': 30},\n",
       "   {'Time': 8, 'Word': 'CACEABBFACC', 'Length (Multiplied)': 33},\n",
       "   {'Time': 9, 'Word': 'CACEABBFACCD', 'Length (Multiplied)': 36},\n",
       "   {'Time': 10, 'Word': 'CACEABBFACCDBA', 'Length (Multiplied)': 42},\n",
       "   {'Time': 11, 'Word': 'CACEABBFACCDBAC', 'Length (Multiplied)': 45},\n",
       "   {'Time': 12, 'Word': 'CACEABBFACCDBACD', 'Length (Multiplied)': 48},\n",
       "   {'Time': 13, 'Word': 'CACEABBFACCDBACDBA', 'Length (Multiplied)': 54},\n",
       "   {'Time': 14, 'Word': 'CACEABBFACCDBACDBAC', 'Length (Multiplied)': 57},\n",
       "   {'Time': 15, 'Word': 'CACEABBFACCDBACDBACD', 'Length (Multiplied)': 60}]}]"
      ]
     },
     "metadata": {},
     "output_type": "display_data"
    },
    {
     "name": "stdout",
     "output_type": "stream",
     "text": [
      "\n",
      "\n",
      "Current state:\n"
     ]
    },
    {
     "data": {
      "text/plain": [
       "{'Dummy': {'Words': 'CACEABBFACCDBACDBACD', 'Total Length': 60},\n",
       " 'Time': 15,\n",
       " 'Simulation Log': [{'Time': 1, 'Word': 'CA', 'Length (Multiplied)': 6},\n",
       "  {'Time': 2, 'Word': 'CAC', 'Length (Multiplied)': 9},\n",
       "  {'Time': 3, 'Word': 'CACE', 'Length (Multiplied)': 12},\n",
       "  {'Time': 4, 'Word': 'CACEAB', 'Length (Multiplied)': 18},\n",
       "  {'Time': 5, 'Word': 'CACEABB', 'Length (Multiplied)': 21},\n",
       "  {'Time': 6, 'Word': 'CACEABBF', 'Length (Multiplied)': 24},\n",
       "  {'Time': 7, 'Word': 'CACEABBFAC', 'Length (Multiplied)': 30},\n",
       "  {'Time': 8, 'Word': 'CACEABBFACC', 'Length (Multiplied)': 33},\n",
       "  {'Time': 9, 'Word': 'CACEABBFACCD', 'Length (Multiplied)': 36},\n",
       "  {'Time': 10, 'Word': 'CACEABBFACCDBA', 'Length (Multiplied)': 42},\n",
       "  {'Time': 11, 'Word': 'CACEABBFACCDBAC', 'Length (Multiplied)': 45},\n",
       "  {'Time': 12, 'Word': 'CACEABBFACCDBACD', 'Length (Multiplied)': 48},\n",
       "  {'Time': 13, 'Word': 'CACEABBFACCDBACDBA', 'Length (Multiplied)': 54},\n",
       "  {'Time': 14, 'Word': 'CACEABBFACCDBACDBAC', 'Length (Multiplied)': 57},\n",
       "  {'Time': 15, 'Word': 'CACEABBFACCDBACDBACD', 'Length (Multiplied)': 60}],\n",
       " 'Stateful Metrics': {'DUMMY Nominal Length Stateful Metric': <function src.Implementations.Python.StatefulMetrics.Dummy.dummy_metric(state, params)>},\n",
       " 'Metrics': {'DUMMY Multiplied Length Metric': <function src.Implementations.Python.Metrics.Dummy.dummy_multiplied_length_metric(state, params, spaces)>}}"
      ]
     },
     "metadata": {},
     "output_type": "display_data"
    }
   ],
   "source": [
    "# Create expriment and run the model\n",
    "state: state_space = {'Dummy': {'Words': '', 'Total Length': None},\n",
    "                                   'Time': 0,\n",
    "                                   'Simulation Log': []}\n",
    "params: parameter_space = {'DUMMY D Probability': 0.5,\n",
    " 'DUMMY Length Multiplier': 3,\n",
    " 'FP DUMMY Length-1 DEF Control Action': 'DUMMY Length-1 DEF Equal Weight Option',\n",
    " 'FP DUMMY Length-2 ABC Combo Boundary Action': 'DUMMY Length-2 ABC Equal Weight Option'}\n",
    "\n",
    "experiment = model.create_experiment(state, params, record_trajectory=True, use_deepcopy=True)\n",
    "experiment.run(5)\n",
    "trajectories = experiment.trajectories\n",
    "print(\"The last two trajectories:\")\n",
    "display(experiment.trajectories[-2:])\n",
    "print()\n",
    "print()\n",
    "print(\"Current state:\")\n",
    "display(experiment.state)"
   ]
  },
  {
   "cell_type": "markdown",
   "metadata": {},
   "source": [
    "## Batch Experiments\n",
    "\n",
    "Batch experiments can be run like below:"
   ]
  },
  {
   "cell_type": "code",
   "execution_count": 27,
   "metadata": {},
   "outputs": [
    {
     "name": "stdout",
     "output_type": "stream",
     "text": [
      "Trajectories (2 experiments x 4 entries including starting trajectory)\n"
     ]
    },
    {
     "data": {
      "text/plain": [
       "[[{'Dummy': {'Words': '', 'Total Length': 0}, 'Time': 0, 'Simulation Log': []},\n",
       "  {'Dummy': {'Words': 'ACAD', 'Total Length': 12},\n",
       "   'Time': 3,\n",
       "   'Simulation Log': [{'Time': 1, 'Word': 'AC', 'Length (Multiplied)': 6},\n",
       "    {'Time': 2, 'Word': 'ACA', 'Length (Multiplied)': 9},\n",
       "    {'Time': 3, 'Word': 'ACAD', 'Length (Multiplied)': 12}]},\n",
       "  {'Dummy': {'Words': 'ACADCCAD', 'Total Length': 24},\n",
       "   'Time': 6,\n",
       "   'Simulation Log': [{'Time': 1, 'Word': 'AC', 'Length (Multiplied)': 6},\n",
       "    {'Time': 2, 'Word': 'ACA', 'Length (Multiplied)': 9},\n",
       "    {'Time': 3, 'Word': 'ACAD', 'Length (Multiplied)': 12},\n",
       "    {'Time': 4, 'Word': 'ACADCC', 'Length (Multiplied)': 18},\n",
       "    {'Time': 5, 'Word': 'ACADCCA', 'Length (Multiplied)': 21},\n",
       "    {'Time': 6, 'Word': 'ACADCCAD', 'Length (Multiplied)': 24}]},\n",
       "  {'Dummy': {'Words': 'ACADCCADCBAE', 'Total Length': 36},\n",
       "   'Time': 9,\n",
       "   'Simulation Log': [{'Time': 1, 'Word': 'AC', 'Length (Multiplied)': 6},\n",
       "    {'Time': 2, 'Word': 'ACA', 'Length (Multiplied)': 9},\n",
       "    {'Time': 3, 'Word': 'ACAD', 'Length (Multiplied)': 12},\n",
       "    {'Time': 4, 'Word': 'ACADCC', 'Length (Multiplied)': 18},\n",
       "    {'Time': 5, 'Word': 'ACADCCA', 'Length (Multiplied)': 21},\n",
       "    {'Time': 6, 'Word': 'ACADCCAD', 'Length (Multiplied)': 24},\n",
       "    {'Time': 7, 'Word': 'ACADCCADCB', 'Length (Multiplied)': 30},\n",
       "    {'Time': 8, 'Word': 'ACADCCADCBA', 'Length (Multiplied)': 33},\n",
       "    {'Time': 9, 'Word': 'ACADCCADCBAE', 'Length (Multiplied)': 36}]}],\n",
       " [{'Dummy': {'Words': '', 'Total Length': 0}, 'Time': 0, 'Simulation Log': []},\n",
       "  {'Dummy': {'Words': 'ACAF', 'Total Length': 12},\n",
       "   'Time': 3,\n",
       "   'Simulation Log': [{'Time': 1, 'Word': 'AC', 'Length (Multiplied)': 6},\n",
       "    {'Time': 2, 'Word': 'ACA', 'Length (Multiplied)': 9},\n",
       "    {'Time': 3, 'Word': 'ACAF', 'Length (Multiplied)': 12}]},\n",
       "  {'Dummy': {'Words': 'ACAFCBAD', 'Total Length': 24},\n",
       "   'Time': 6,\n",
       "   'Simulation Log': [{'Time': 1, 'Word': 'AC', 'Length (Multiplied)': 6},\n",
       "    {'Time': 2, 'Word': 'ACA', 'Length (Multiplied)': 9},\n",
       "    {'Time': 3, 'Word': 'ACAF', 'Length (Multiplied)': 12},\n",
       "    {'Time': 4, 'Word': 'ACAFCB', 'Length (Multiplied)': 18},\n",
       "    {'Time': 5, 'Word': 'ACAFCBA', 'Length (Multiplied)': 21},\n",
       "    {'Time': 6, 'Word': 'ACAFCBAD', 'Length (Multiplied)': 24}]},\n",
       "  {'Dummy': {'Words': 'ACAFCBADBABE', 'Total Length': 36},\n",
       "   'Time': 9,\n",
       "   'Simulation Log': [{'Time': 1, 'Word': 'AC', 'Length (Multiplied)': 6},\n",
       "    {'Time': 2, 'Word': 'ACA', 'Length (Multiplied)': 9},\n",
       "    {'Time': 3, 'Word': 'ACAF', 'Length (Multiplied)': 12},\n",
       "    {'Time': 4, 'Word': 'ACAFCB', 'Length (Multiplied)': 18},\n",
       "    {'Time': 5, 'Word': 'ACAFCBA', 'Length (Multiplied)': 21},\n",
       "    {'Time': 6, 'Word': 'ACAFCBAD', 'Length (Multiplied)': 24},\n",
       "    {'Time': 7, 'Word': 'ACAFCBADBA', 'Length (Multiplied)': 30},\n",
       "    {'Time': 8, 'Word': 'ACAFCBADBAB', 'Length (Multiplied)': 33},\n",
       "    {'Time': 9, 'Word': 'ACAFCBADBABE', 'Length (Multiplied)': 36}]}]]"
      ]
     },
     "metadata": {},
     "output_type": "display_data"
    },
    {
     "name": "stdout",
     "output_type": "stream",
     "text": [
      "\n",
      "Confirmation that the shape of trajectories is: 2 x 4\n"
     ]
    }
   ],
   "source": [
    "from typing import List\n",
    "state: list = [{'Dummy': {'Words': '', 'Total Length': None},\n",
    "                                   'Time': 0,\n",
    "                                   'Simulation Log': []},\n",
    "                            {'Dummy': {'Words': '', 'Total Length': None},\n",
    "                                   'Time': 0,\n",
    "                                   'Simulation Log': []}]\n",
    "params: list = [{'DUMMY D Probability': 0.5,\n",
    " 'DUMMY Length Multiplier': 3,\n",
    " 'FP DUMMY Length-1 DEF Control Action': 'DUMMY Length-1 DEF Equal Weight Option',\n",
    " 'FP DUMMY Length-2 ABC Combo Boundary Action': 'DUMMY Length-2 ABC Equal Weight Option'},\n",
    " {'DUMMY D Probability': 0.1,\n",
    " 'DUMMY Length Multiplier': 3,\n",
    " 'FP DUMMY Length-1 DEF Control Action': 'DUMMY Length-1 DEF Equal Weight Option',\n",
    " 'FP DUMMY Length-2 ABC Combo Boundary Action': 'DUMMY Length-2 ABC Equal Weight Option'}]\n",
    "batch_experiments = model.create_batch_experiments(state, params, record_trajectory=True, use_deepcopy=True)\n",
    "batch_experiments.run(3)\n",
    "print(\"Trajectories (2 experiments x 4 entries including starting trajectory)\")\n",
    "display(batch_experiments.trajectories)\n",
    "print()\n",
    "print(\"Confirmation that the shape of trajectories is: {} x {}\".format(len(batch_experiments.trajectories), len(batch_experiments.trajectories[0])))\n"
   ]
  }
 ],
 "metadata": {
  "kernelspec": {
   "display_name": "MSML",
   "language": "python",
   "name": "python3"
  },
  "language_info": {
   "codemirror_mode": {
    "name": "ipython",
    "version": 3
   },
   "file_extension": ".py",
   "mimetype": "text/x-python",
   "name": "python",
   "nbconvert_exporter": "python",
   "pygments_lexer": "ipython3",
   "version": "3.9.19"
  }
 },
 "nbformat": 4,
 "nbformat_minor": 2
}
