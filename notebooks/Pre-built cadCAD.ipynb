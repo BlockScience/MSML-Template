{
 "cells": [
  {
   "cell_type": "markdown",
   "metadata": {},
   "source": [
    "# Pre-built cadCAD Models\n",
    "\n",
    "This notebook shows how a data scientist can take cadCAD models \"off the rack\" from an MSML dev without ever needing to get into the details."
   ]
  },
  {
   "cell_type": "code",
   "execution_count": 1,
   "metadata": {},
   "outputs": [],
   "source": [
    "import sys\n",
    "import os\n",
    "\n",
    "sys.path.append(os.path.abspath('..'))\n",
    "\n",
    "from cadCADModels import cadCAD_models"
   ]
  },
  {
   "cell_type": "markdown",
   "metadata": {},
   "source": [
    "## Models\n",
    "\n",
    "We have the different models that the MSML dev has created which we can import simply by pulling in cadCAD_models. Each comes with its state space, parameter space, and the model that actually runs the simulation.\n",
    "\n",
    "We have two options here, Model 1 and Model 2 which can be toggled between. The only difference is model 2 only has two of the blocks used.\n",
    "\n",
    "There is a third model covered afterwards that shows how certain state and parameters can be pre-assigned."
   ]
  },
  {
   "cell_type": "code",
   "execution_count": 3,
   "metadata": {},
   "outputs": [
    {
     "data": {
      "text/plain": [
       "{'Words': str, 'Total Length': int}"
      ]
     },
     "execution_count": 3,
     "metadata": {},
     "output_type": "execute_result"
    }
   ],
   "source": [
    "state_space[\"Dummy\"].__annotations__"
   ]
  },
  {
   "cell_type": "code",
   "execution_count": 4,
   "metadata": {},
   "outputs": [
    {
     "name": "stdout",
     "output_type": "stream",
     "text": [
      "<class 'src.TypeMappings.types.EntityType'>\n"
     ]
    }
   ],
   "source": [
    "print(state_space[\"Dummy\"])"
   ]
  },
  {
   "cell_type": "code",
   "execution_count": 2,
   "metadata": {},
   "outputs": [
    {
     "name": "stdout",
     "output_type": "stream",
     "text": [
      "Model blocks: ['DUMMY Length-2 Boundary Wiring', 'DUMMY Length-1 Boundary Wiring', 'DUMMY Control Wiring']\n",
      "\n",
      "Model state space:\n"
     ]
    },
    {
     "data": {
      "text/plain": [
       "{'Dummy': src.TypeMappings.types.EntityType,\n",
       " 'Time': int,\n",
       " 'Simulation Log': typing.List[src.TypeMappings.types.SimulationLogEntry]}"
      ]
     },
     "metadata": {},
     "output_type": "display_data"
    },
    {
     "name": "stdout",
     "output_type": "stream",
     "text": [
      "\n",
      "Model parameter space:\n"
     ]
    },
    {
     "data": {
      "text/plain": [
       "{'DUMMY D Probability': float,\n",
       " 'DUMMY Length Multiplier': int,\n",
       " 'FP DUMMY Length-2 ABC Combo Boundary Action': typing.Literal['DUMMY Length-2 ABC Equal Weight Option', 'DUMMY Length-2 ABC Equal Weight 2 Option'],\n",
       " 'FP DUMMY Length-1 DEF Control Action': typing.Literal['DUMMY Length-1 DEF Equal Weight Option', 'DUMMY Length-1 DEF D Probability Option']}"
      ]
     },
     "metadata": {},
     "output_type": "display_data"
    }
   ],
   "source": [
    "# Get model components\n",
    "model_name = \"Model 1\"\n",
    "state_space = cadCAD_models[model_name][\"StateSpace\"]\n",
    "parameter_space = cadCAD_models[model_name][\"ParameterSpace\"]\n",
    "model = cadCAD_models[model_name][\"Model\"]\n",
    "\n",
    "# Printing model data\n",
    "print(\"Model blocks: {}\".format(model.blocks))\n",
    "print()\n",
    "print(\"Model state space:\")\n",
    "display(state_space)\n",
    "print()\n",
    "print(\"Model parameter space:\")\n",
    "display(parameter_space)"
   ]
  },
  {
   "cell_type": "markdown",
   "metadata": {},
   "source": [
    "### Single Experiment\n",
    "\n",
    "A single experiment is as easily run as below. We use deepcopy and recording of trajectories but we can also switch them off if we want to just simply take the ending state and use something like a simulation log to record the data.\n",
    "\n",
    "Please note that this version does have a simulation log, but it can be ignored as we are doing a logging at each step with deepcopy of the entire state."
   ]
  },
  {
   "cell_type": "code",
   "execution_count": 3,
   "metadata": {},
   "outputs": [
    {
     "name": "stdout",
     "output_type": "stream",
     "text": [
      "The last two trajectories:\n"
     ]
    },
    {
     "data": {
      "text/plain": [
       "[{'Dummy': {'Words': 'CAADBCAFCABDCAAF', 'Total Length': 48},\n",
       "  'Time': 12,\n",
       "  'Simulation Log': [{'Time': 1, 'Word': 'CA', 'Length (Multiplied)': 6},\n",
       "   {'Time': 2, 'Word': 'CAA', 'Length (Multiplied)': 9},\n",
       "   {'Time': 3, 'Word': 'CAAD', 'Length (Multiplied)': 12},\n",
       "   {'Time': 4, 'Word': 'CAADBC', 'Length (Multiplied)': 18},\n",
       "   {'Time': 5, 'Word': 'CAADBCA', 'Length (Multiplied)': 21},\n",
       "   {'Time': 6, 'Word': 'CAADBCAF', 'Length (Multiplied)': 24},\n",
       "   {'Time': 7, 'Word': 'CAADBCAFCA', 'Length (Multiplied)': 30},\n",
       "   {'Time': 8, 'Word': 'CAADBCAFCAB', 'Length (Multiplied)': 33},\n",
       "   {'Time': 9, 'Word': 'CAADBCAFCABD', 'Length (Multiplied)': 36},\n",
       "   {'Time': 10, 'Word': 'CAADBCAFCABDCA', 'Length (Multiplied)': 42},\n",
       "   {'Time': 11, 'Word': 'CAADBCAFCABDCAA', 'Length (Multiplied)': 45},\n",
       "   {'Time': 12, 'Word': 'CAADBCAFCABDCAAF', 'Length (Multiplied)': 48}]},\n",
       " {'Dummy': {'Words': 'CAADBCAFCABDCAAFBCBD', 'Total Length': 60},\n",
       "  'Time': 15,\n",
       "  'Simulation Log': [{'Time': 1, 'Word': 'CA', 'Length (Multiplied)': 6},\n",
       "   {'Time': 2, 'Word': 'CAA', 'Length (Multiplied)': 9},\n",
       "   {'Time': 3, 'Word': 'CAAD', 'Length (Multiplied)': 12},\n",
       "   {'Time': 4, 'Word': 'CAADBC', 'Length (Multiplied)': 18},\n",
       "   {'Time': 5, 'Word': 'CAADBCA', 'Length (Multiplied)': 21},\n",
       "   {'Time': 6, 'Word': 'CAADBCAF', 'Length (Multiplied)': 24},\n",
       "   {'Time': 7, 'Word': 'CAADBCAFCA', 'Length (Multiplied)': 30},\n",
       "   {'Time': 8, 'Word': 'CAADBCAFCAB', 'Length (Multiplied)': 33},\n",
       "   {'Time': 9, 'Word': 'CAADBCAFCABD', 'Length (Multiplied)': 36},\n",
       "   {'Time': 10, 'Word': 'CAADBCAFCABDCA', 'Length (Multiplied)': 42},\n",
       "   {'Time': 11, 'Word': 'CAADBCAFCABDCAA', 'Length (Multiplied)': 45},\n",
       "   {'Time': 12, 'Word': 'CAADBCAFCABDCAAF', 'Length (Multiplied)': 48},\n",
       "   {'Time': 13, 'Word': 'CAADBCAFCABDCAAFBC', 'Length (Multiplied)': 54},\n",
       "   {'Time': 14, 'Word': 'CAADBCAFCABDCAAFBCB', 'Length (Multiplied)': 57},\n",
       "   {'Time': 15, 'Word': 'CAADBCAFCABDCAAFBCBD', 'Length (Multiplied)': 60}]}]"
      ]
     },
     "metadata": {},
     "output_type": "display_data"
    },
    {
     "name": "stdout",
     "output_type": "stream",
     "text": [
      "\n",
      "\n",
      "Current state:\n"
     ]
    },
    {
     "data": {
      "text/plain": [
       "{'Dummy': {'Words': 'CAADBCAFCABDCAAFBCBD', 'Total Length': 60},\n",
       " 'Time': 15,\n",
       " 'Simulation Log': [{'Time': 1, 'Word': 'CA', 'Length (Multiplied)': 6},\n",
       "  {'Time': 2, 'Word': 'CAA', 'Length (Multiplied)': 9},\n",
       "  {'Time': 3, 'Word': 'CAAD', 'Length (Multiplied)': 12},\n",
       "  {'Time': 4, 'Word': 'CAADBC', 'Length (Multiplied)': 18},\n",
       "  {'Time': 5, 'Word': 'CAADBCA', 'Length (Multiplied)': 21},\n",
       "  {'Time': 6, 'Word': 'CAADBCAF', 'Length (Multiplied)': 24},\n",
       "  {'Time': 7, 'Word': 'CAADBCAFCA', 'Length (Multiplied)': 30},\n",
       "  {'Time': 8, 'Word': 'CAADBCAFCAB', 'Length (Multiplied)': 33},\n",
       "  {'Time': 9, 'Word': 'CAADBCAFCABD', 'Length (Multiplied)': 36},\n",
       "  {'Time': 10, 'Word': 'CAADBCAFCABDCA', 'Length (Multiplied)': 42},\n",
       "  {'Time': 11, 'Word': 'CAADBCAFCABDCAA', 'Length (Multiplied)': 45},\n",
       "  {'Time': 12, 'Word': 'CAADBCAFCABDCAAF', 'Length (Multiplied)': 48},\n",
       "  {'Time': 13, 'Word': 'CAADBCAFCABDCAAFBC', 'Length (Multiplied)': 54},\n",
       "  {'Time': 14, 'Word': 'CAADBCAFCABDCAAFBCB', 'Length (Multiplied)': 57},\n",
       "  {'Time': 15, 'Word': 'CAADBCAFCABDCAAFBCBD', 'Length (Multiplied)': 60}],\n",
       " 'Stateful Metrics': {'DUMMY Nominal Length Stateful Metric': <function src.Implementations.Python.StatefulMetrics.Dummy.dummy_metric(state, params)>},\n",
       " 'Metrics': {'DUMMY Multiplied Length Metric': <function src.Implementations.Python.Metrics.Dummy.dummy_multiplied_length_metric(state, params, spaces)>}}"
      ]
     },
     "metadata": {},
     "output_type": "display_data"
    }
   ],
   "source": [
    "# Create expriment and run the model\n",
    "state: state_space = {'Dummy': {'Words': '', 'Total Length': None},\n",
    "                                   'Time': 0,\n",
    "                                   'Simulation Log': []}\n",
    "params: parameter_space = {'DUMMY D Probability': 0.5,\n",
    " 'DUMMY Length Multiplier': 3,\n",
    " 'FP DUMMY Length-1 DEF Control Action': 'DUMMY Length-1 DEF Equal Weight Option',\n",
    " 'FP DUMMY Length-2 ABC Combo Boundary Action': 'DUMMY Length-2 ABC Equal Weight Option'}\n",
    "\n",
    "experiment = model.create_experiment(state, params, record_trajectory=True, use_deepcopy=True)\n",
    "experiment.run(5)\n",
    "trajectories = experiment.trajectories\n",
    "print(\"The last two trajectories:\")\n",
    "display(experiment.trajectories[-2:])\n",
    "print()\n",
    "print()\n",
    "print(\"Current state:\")\n",
    "display(experiment.state)"
   ]
  },
  {
   "cell_type": "markdown",
   "metadata": {},
   "source": [
    "## Batch Experiments\n",
    "\n",
    "Batch experiments can be run like below:"
   ]
  },
  {
   "cell_type": "code",
   "execution_count": 4,
   "metadata": {},
   "outputs": [
    {
     "name": "stdout",
     "output_type": "stream",
     "text": [
      "Trajectories (2 experiments x 4 entries including starting trajectory)\n"
     ]
    },
    {
     "data": {
      "text/plain": [
       "[[{'Dummy': {'Words': '', 'Total Length': 0}, 'Time': 0, 'Simulation Log': []},\n",
       "  {'Dummy': {'Words': 'BABD', 'Total Length': 12},\n",
       "   'Time': 3,\n",
       "   'Simulation Log': [{'Time': 1, 'Word': 'BA', 'Length (Multiplied)': 6},\n",
       "    {'Time': 2, 'Word': 'BAB', 'Length (Multiplied)': 9},\n",
       "    {'Time': 3, 'Word': 'BABD', 'Length (Multiplied)': 12}]},\n",
       "  {'Dummy': {'Words': 'BABDCCCF', 'Total Length': 24},\n",
       "   'Time': 6,\n",
       "   'Simulation Log': [{'Time': 1, 'Word': 'BA', 'Length (Multiplied)': 6},\n",
       "    {'Time': 2, 'Word': 'BAB', 'Length (Multiplied)': 9},\n",
       "    {'Time': 3, 'Word': 'BABD', 'Length (Multiplied)': 12},\n",
       "    {'Time': 4, 'Word': 'BABDCC', 'Length (Multiplied)': 18},\n",
       "    {'Time': 5, 'Word': 'BABDCCC', 'Length (Multiplied)': 21},\n",
       "    {'Time': 6, 'Word': 'BABDCCCF', 'Length (Multiplied)': 24}]},\n",
       "  {'Dummy': {'Words': 'BABDCCCFCBBE', 'Total Length': 36},\n",
       "   'Time': 9,\n",
       "   'Simulation Log': [{'Time': 1, 'Word': 'BA', 'Length (Multiplied)': 6},\n",
       "    {'Time': 2, 'Word': 'BAB', 'Length (Multiplied)': 9},\n",
       "    {'Time': 3, 'Word': 'BABD', 'Length (Multiplied)': 12},\n",
       "    {'Time': 4, 'Word': 'BABDCC', 'Length (Multiplied)': 18},\n",
       "    {'Time': 5, 'Word': 'BABDCCC', 'Length (Multiplied)': 21},\n",
       "    {'Time': 6, 'Word': 'BABDCCCF', 'Length (Multiplied)': 24},\n",
       "    {'Time': 7, 'Word': 'BABDCCCFCB', 'Length (Multiplied)': 30},\n",
       "    {'Time': 8, 'Word': 'BABDCCCFCBB', 'Length (Multiplied)': 33},\n",
       "    {'Time': 9, 'Word': 'BABDCCCFCBBE', 'Length (Multiplied)': 36}]}],\n",
       " [{'Dummy': {'Words': '', 'Total Length': 0}, 'Time': 0, 'Simulation Log': []},\n",
       "  {'Dummy': {'Words': 'BBCE', 'Total Length': 12},\n",
       "   'Time': 3,\n",
       "   'Simulation Log': [{'Time': 1, 'Word': 'BB', 'Length (Multiplied)': 6},\n",
       "    {'Time': 2, 'Word': 'BBC', 'Length (Multiplied)': 9},\n",
       "    {'Time': 3, 'Word': 'BBCE', 'Length (Multiplied)': 12}]},\n",
       "  {'Dummy': {'Words': 'BBCECBBD', 'Total Length': 24},\n",
       "   'Time': 6,\n",
       "   'Simulation Log': [{'Time': 1, 'Word': 'BB', 'Length (Multiplied)': 6},\n",
       "    {'Time': 2, 'Word': 'BBC', 'Length (Multiplied)': 9},\n",
       "    {'Time': 3, 'Word': 'BBCE', 'Length (Multiplied)': 12},\n",
       "    {'Time': 4, 'Word': 'BBCECB', 'Length (Multiplied)': 18},\n",
       "    {'Time': 5, 'Word': 'BBCECBB', 'Length (Multiplied)': 21},\n",
       "    {'Time': 6, 'Word': 'BBCECBBD', 'Length (Multiplied)': 24}]},\n",
       "  {'Dummy': {'Words': 'BBCECBBDABAF', 'Total Length': 36},\n",
       "   'Time': 9,\n",
       "   'Simulation Log': [{'Time': 1, 'Word': 'BB', 'Length (Multiplied)': 6},\n",
       "    {'Time': 2, 'Word': 'BBC', 'Length (Multiplied)': 9},\n",
       "    {'Time': 3, 'Word': 'BBCE', 'Length (Multiplied)': 12},\n",
       "    {'Time': 4, 'Word': 'BBCECB', 'Length (Multiplied)': 18},\n",
       "    {'Time': 5, 'Word': 'BBCECBB', 'Length (Multiplied)': 21},\n",
       "    {'Time': 6, 'Word': 'BBCECBBD', 'Length (Multiplied)': 24},\n",
       "    {'Time': 7, 'Word': 'BBCECBBDAB', 'Length (Multiplied)': 30},\n",
       "    {'Time': 8, 'Word': 'BBCECBBDABA', 'Length (Multiplied)': 33},\n",
       "    {'Time': 9, 'Word': 'BBCECBBDABAF', 'Length (Multiplied)': 36}]}]]"
      ]
     },
     "metadata": {},
     "output_type": "display_data"
    },
    {
     "name": "stdout",
     "output_type": "stream",
     "text": [
      "\n",
      "Confirmation that the shape of trajectories is: 2 x 4\n"
     ]
    }
   ],
   "source": [
    "from typing import List\n",
    "state: list = [{'Dummy': {'Words': '', 'Total Length': None},\n",
    "                                   'Time': 0,\n",
    "                                   'Simulation Log': []},\n",
    "                            {'Dummy': {'Words': '', 'Total Length': None},\n",
    "                                   'Time': 0,\n",
    "                                   'Simulation Log': []}]\n",
    "params: list = [{'DUMMY D Probability': 0.5,\n",
    " 'DUMMY Length Multiplier': 3,\n",
    " 'FP DUMMY Length-1 DEF Control Action': 'DUMMY Length-1 DEF Equal Weight Option',\n",
    " 'FP DUMMY Length-2 ABC Combo Boundary Action': 'DUMMY Length-2 ABC Equal Weight Option'},\n",
    " {'DUMMY D Probability': 0.1,\n",
    " 'DUMMY Length Multiplier': 3,\n",
    " 'FP DUMMY Length-1 DEF Control Action': 'DUMMY Length-1 DEF Equal Weight Option',\n",
    " 'FP DUMMY Length-2 ABC Combo Boundary Action': 'DUMMY Length-2 ABC Equal Weight Option'}]\n",
    "batch_experiments = model.create_batch_experiments(state, params, record_trajectory=True, use_deepcopy=True)\n",
    "batch_experiments.run(3)\n",
    "print(\"Trajectories (2 experiments x 4 entries including starting trajectory)\")\n",
    "display(batch_experiments.trajectories)\n",
    "print()\n",
    "print(\"Confirmation that the shape of trajectories is: {} x {}\".format(len(batch_experiments.trajectories), len(batch_experiments.trajectories[0])))\n"
   ]
  },
  {
   "cell_type": "markdown",
   "metadata": {},
   "source": [
    "## Model with Pre-assigned State & Parameters"
   ]
  },
  {
   "cell_type": "code",
   "execution_count": 5,
   "metadata": {},
   "outputs": [
    {
     "name": "stdout",
     "output_type": "stream",
     "text": [
      "Model blocks: ['DUMMY Length-2 Boundary Wiring', 'DUMMY Length-1 Boundary Wiring', 'DUMMY Control Wiring']\n",
      "\n",
      "Model state space:\n"
     ]
    },
    {
     "data": {
      "text/plain": [
       "{'Dummy': src.TypeMappings.types.EntityType,\n",
       " 'Simulation Log': typing.List[src.TypeMappings.types.SimulationLogEntry]}"
      ]
     },
     "metadata": {},
     "output_type": "display_data"
    },
    {
     "name": "stdout",
     "output_type": "stream",
     "text": [
      "\n",
      "Model parameter space:\n"
     ]
    },
    {
     "data": {
      "text/plain": [
       "{'DUMMY D Probability': float, 'DUMMY Length Multiplier': int}"
      ]
     },
     "metadata": {},
     "output_type": "display_data"
    }
   ],
   "source": [
    "# Get model components\n",
    "model_name = \"Model 3\"\n",
    "state_space = cadCAD_models[model_name][\"StateSpace\"]\n",
    "parameter_space = cadCAD_models[model_name][\"ParameterSpace\"]\n",
    "model = cadCAD_models[model_name][\"Model\"]\n",
    "\n",
    "# Printing model data\n",
    "print(\"Model blocks: {}\".format(model.blocks))\n",
    "print()\n",
    "print(\"Model state space:\")\n",
    "display(state_space)\n",
    "print()\n",
    "print(\"Model parameter space:\")\n",
    "display(parameter_space)"
   ]
  },
  {
   "cell_type": "code",
   "execution_count": 6,
   "metadata": {},
   "outputs": [
    {
     "name": "stdout",
     "output_type": "stream",
     "text": [
      "The last two trajectories:\n"
     ]
    },
    {
     "data": {
      "text/plain": [
       "[{'Dummy': {'Words': 'BCBFBBCFCBBDAACE', 'Total Length': 48},\n",
       "  'Simulation Log': [{'Time': 1, 'Word': 'BC', 'Length (Multiplied)': 6},\n",
       "   {'Time': 2, 'Word': 'BCB', 'Length (Multiplied)': 9},\n",
       "   {'Time': 3, 'Word': 'BCBF', 'Length (Multiplied)': 12},\n",
       "   {'Time': 4, 'Word': 'BCBFBB', 'Length (Multiplied)': 18},\n",
       "   {'Time': 5, 'Word': 'BCBFBBC', 'Length (Multiplied)': 21},\n",
       "   {'Time': 6, 'Word': 'BCBFBBCF', 'Length (Multiplied)': 24},\n",
       "   {'Time': 7, 'Word': 'BCBFBBCFCB', 'Length (Multiplied)': 30},\n",
       "   {'Time': 8, 'Word': 'BCBFBBCFCBB', 'Length (Multiplied)': 33},\n",
       "   {'Time': 9, 'Word': 'BCBFBBCFCBBD', 'Length (Multiplied)': 36},\n",
       "   {'Time': 10, 'Word': 'BCBFBBCFCBBDAA', 'Length (Multiplied)': 42},\n",
       "   {'Time': 11, 'Word': 'BCBFBBCFCBBDAAC', 'Length (Multiplied)': 45},\n",
       "   {'Time': 12, 'Word': 'BCBFBBCFCBBDAACE', 'Length (Multiplied)': 48}],\n",
       "  'Time': 12},\n",
       " {'Dummy': {'Words': 'BCBFBBCFCBBDAACEBBAD', 'Total Length': 60},\n",
       "  'Simulation Log': [{'Time': 1, 'Word': 'BC', 'Length (Multiplied)': 6},\n",
       "   {'Time': 2, 'Word': 'BCB', 'Length (Multiplied)': 9},\n",
       "   {'Time': 3, 'Word': 'BCBF', 'Length (Multiplied)': 12},\n",
       "   {'Time': 4, 'Word': 'BCBFBB', 'Length (Multiplied)': 18},\n",
       "   {'Time': 5, 'Word': 'BCBFBBC', 'Length (Multiplied)': 21},\n",
       "   {'Time': 6, 'Word': 'BCBFBBCF', 'Length (Multiplied)': 24},\n",
       "   {'Time': 7, 'Word': 'BCBFBBCFCB', 'Length (Multiplied)': 30},\n",
       "   {'Time': 8, 'Word': 'BCBFBBCFCBB', 'Length (Multiplied)': 33},\n",
       "   {'Time': 9, 'Word': 'BCBFBBCFCBBD', 'Length (Multiplied)': 36},\n",
       "   {'Time': 10, 'Word': 'BCBFBBCFCBBDAA', 'Length (Multiplied)': 42},\n",
       "   {'Time': 11, 'Word': 'BCBFBBCFCBBDAAC', 'Length (Multiplied)': 45},\n",
       "   {'Time': 12, 'Word': 'BCBFBBCFCBBDAACE', 'Length (Multiplied)': 48},\n",
       "   {'Time': 13, 'Word': 'BCBFBBCFCBBDAACEBB', 'Length (Multiplied)': 54},\n",
       "   {'Time': 14, 'Word': 'BCBFBBCFCBBDAACEBBA', 'Length (Multiplied)': 57},\n",
       "   {'Time': 15, 'Word': 'BCBFBBCFCBBDAACEBBAD', 'Length (Multiplied)': 60}],\n",
       "  'Time': 15}]"
      ]
     },
     "metadata": {},
     "output_type": "display_data"
    },
    {
     "name": "stdout",
     "output_type": "stream",
     "text": [
      "\n",
      "\n",
      "Current state:\n"
     ]
    },
    {
     "data": {
      "text/plain": [
       "{'Dummy': {'Words': 'BCBFBBCFCBBDAACEBBAD', 'Total Length': 60},\n",
       " 'Simulation Log': [{'Time': 1, 'Word': 'BC', 'Length (Multiplied)': 6},\n",
       "  {'Time': 2, 'Word': 'BCB', 'Length (Multiplied)': 9},\n",
       "  {'Time': 3, 'Word': 'BCBF', 'Length (Multiplied)': 12},\n",
       "  {'Time': 4, 'Word': 'BCBFBB', 'Length (Multiplied)': 18},\n",
       "  {'Time': 5, 'Word': 'BCBFBBC', 'Length (Multiplied)': 21},\n",
       "  {'Time': 6, 'Word': 'BCBFBBCF', 'Length (Multiplied)': 24},\n",
       "  {'Time': 7, 'Word': 'BCBFBBCFCB', 'Length (Multiplied)': 30},\n",
       "  {'Time': 8, 'Word': 'BCBFBBCFCBB', 'Length (Multiplied)': 33},\n",
       "  {'Time': 9, 'Word': 'BCBFBBCFCBBD', 'Length (Multiplied)': 36},\n",
       "  {'Time': 10, 'Word': 'BCBFBBCFCBBDAA', 'Length (Multiplied)': 42},\n",
       "  {'Time': 11, 'Word': 'BCBFBBCFCBBDAAC', 'Length (Multiplied)': 45},\n",
       "  {'Time': 12, 'Word': 'BCBFBBCFCBBDAACE', 'Length (Multiplied)': 48},\n",
       "  {'Time': 13, 'Word': 'BCBFBBCFCBBDAACEBB', 'Length (Multiplied)': 54},\n",
       "  {'Time': 14, 'Word': 'BCBFBBCFCBBDAACEBBA', 'Length (Multiplied)': 57},\n",
       "  {'Time': 15, 'Word': 'BCBFBBCFCBBDAACEBBAD', 'Length (Multiplied)': 60}],\n",
       " 'Time': 15,\n",
       " 'Stateful Metrics': {'DUMMY Nominal Length Stateful Metric': <function src.Implementations.Python.StatefulMetrics.Dummy.dummy_metric(state, params)>},\n",
       " 'Metrics': {'DUMMY Multiplied Length Metric': <function src.Implementations.Python.Metrics.Dummy.dummy_multiplied_length_metric(state, params, spaces)>}}"
      ]
     },
     "metadata": {},
     "output_type": "display_data"
    }
   ],
   "source": [
    "# Create expriment and run the model\n",
    "state: state_space = {'Dummy': {'Words': '', 'Total Length': None},\n",
    "                                   'Simulation Log': []}\n",
    "params: parameter_space = {'DUMMY D Probability': 0.5,\n",
    " 'DUMMY Length Multiplier': 3,}\n",
    "\n",
    "experiment = model.create_experiment(state, params, record_trajectory=True, use_deepcopy=True)\n",
    "experiment.run(5)\n",
    "trajectories = experiment.trajectories\n",
    "print(\"The last two trajectories:\")\n",
    "display(experiment.trajectories[-2:])\n",
    "print()\n",
    "print()\n",
    "print(\"Current state:\")\n",
    "display(experiment.state)"
   ]
  }
 ],
 "metadata": {
  "kernelspec": {
   "display_name": "MSML",
   "language": "python",
   "name": "python3"
  },
  "language_info": {
   "codemirror_mode": {
    "name": "ipython",
    "version": 3
   },
   "file_extension": ".py",
   "mimetype": "text/x-python",
   "name": "python",
   "nbconvert_exporter": "python",
   "pygments_lexer": "ipython3",
   "version": "3.9.19"
  }
 },
 "nbformat": 4,
 "nbformat_minor": 2
}
