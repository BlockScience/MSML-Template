{
 "cells": [
  {
   "cell_type": "markdown",
   "metadata": {},
   "source": [
    "# cadCAD Model Creation\n",
    "\n",
    "This notebook shows how to build an actual cadCAD model (from the spec builder side) versus the other cadCAD notebook shows how cadCAD models could be handed off to a data scientist with no need to build them.\n",
    "\n",
    "## Initialize Mathematical Specification"
   ]
  },
  {
   "cell_type": "code",
   "execution_count": 1,
   "metadata": {},
   "outputs": [],
   "source": [
    "import sys\n",
    "import os\n",
    "\n",
    "sys.path.append(os.path.abspath('..'))\n",
    "\n",
    "from simulation import (params_base, state_base, compute_starting_total_length, check_d_probability, post_processing_function,\n",
    "                        percent_ending_in_d_metric, average_d_count_metric, plot_length_single_simulation)\n",
    "\n",
    "\n",
    "#from math_spec_mapping import load_from_json\n",
    "sys.path.append(os.path.abspath('../..'))\n",
    "from MSML.src.math_spec_mapping import (load_from_json)\n",
    "\n",
    "from copy import deepcopy\n",
    "from src import math_spec_json\n",
    "\n",
    "ms = load_from_json(deepcopy(math_spec_json))"
   ]
  },
  {
   "cell_type": "markdown",
   "metadata": {},
   "source": [
    "## Create a cadCAD Simulation"
   ]
  },
  {
   "cell_type": "code",
   "execution_count": 2,
   "metadata": {},
   "outputs": [],
   "source": [
    "blocks = [\"DUMMY Length-2 Boundary Wiring\",\n",
    "               \"DUMMY Length-1 Boundary Wiring\",\n",
    "               \"DUMMY Control Wiring\"]\n",
    "\n",
    "state_space, parameter_space, model = (ms.build_cadCAD(blocks,\n",
    "                  state_preperation_functions=[compute_starting_total_length],\n",
    "                  parameter_preperation_functions=[check_d_probability],)).values()"
   ]
  },
  {
   "cell_type": "markdown",
   "metadata": {},
   "source": [
    "## Data Scientist Interface is the Simulation Object\n",
    "\n",
    "### Single Experiment"
   ]
  },
  {
   "cell_type": "code",
   "execution_count": 3,
   "metadata": {},
   "outputs": [
    {
     "data": {
      "text/plain": [
       "[{'Dummy': {'Words': 'ABCFBCCEBAAEAAAD', 'Total Length': 48},\n",
       "  'Time': 12,\n",
       "  'Simulation Log': [{'Time': 1, 'Word': 'AB', 'Length (Multiplied)': 6},\n",
       "   {'Time': 2, 'Word': 'ABC', 'Length (Multiplied)': 9},\n",
       "   {'Time': 3, 'Word': 'ABCF', 'Length (Multiplied)': 12},\n",
       "   {'Time': 4, 'Word': 'ABCFBC', 'Length (Multiplied)': 18},\n",
       "   {'Time': 5, 'Word': 'ABCFBCC', 'Length (Multiplied)': 21},\n",
       "   {'Time': 6, 'Word': 'ABCFBCCE', 'Length (Multiplied)': 24},\n",
       "   {'Time': 7, 'Word': 'ABCFBCCEBA', 'Length (Multiplied)': 30},\n",
       "   {'Time': 8, 'Word': 'ABCFBCCEBAA', 'Length (Multiplied)': 33},\n",
       "   {'Time': 9, 'Word': 'ABCFBCCEBAAE', 'Length (Multiplied)': 36},\n",
       "   {'Time': 10, 'Word': 'ABCFBCCEBAAEAA', 'Length (Multiplied)': 42},\n",
       "   {'Time': 11, 'Word': 'ABCFBCCEBAAEAAA', 'Length (Multiplied)': 45},\n",
       "   {'Time': 12, 'Word': 'ABCFBCCEBAAEAAAD', 'Length (Multiplied)': 48}]},\n",
       " {'Dummy': {'Words': 'ABCFBCCEBAAEAAADBBBE', 'Total Length': 60},\n",
       "  'Time': 15,\n",
       "  'Simulation Log': [{'Time': 1, 'Word': 'AB', 'Length (Multiplied)': 6},\n",
       "   {'Time': 2, 'Word': 'ABC', 'Length (Multiplied)': 9},\n",
       "   {'Time': 3, 'Word': 'ABCF', 'Length (Multiplied)': 12},\n",
       "   {'Time': 4, 'Word': 'ABCFBC', 'Length (Multiplied)': 18},\n",
       "   {'Time': 5, 'Word': 'ABCFBCC', 'Length (Multiplied)': 21},\n",
       "   {'Time': 6, 'Word': 'ABCFBCCE', 'Length (Multiplied)': 24},\n",
       "   {'Time': 7, 'Word': 'ABCFBCCEBA', 'Length (Multiplied)': 30},\n",
       "   {'Time': 8, 'Word': 'ABCFBCCEBAA', 'Length (Multiplied)': 33},\n",
       "   {'Time': 9, 'Word': 'ABCFBCCEBAAE', 'Length (Multiplied)': 36},\n",
       "   {'Time': 10, 'Word': 'ABCFBCCEBAAEAA', 'Length (Multiplied)': 42},\n",
       "   {'Time': 11, 'Word': 'ABCFBCCEBAAEAAA', 'Length (Multiplied)': 45},\n",
       "   {'Time': 12, 'Word': 'ABCFBCCEBAAEAAAD', 'Length (Multiplied)': 48},\n",
       "   {'Time': 13, 'Word': 'ABCFBCCEBAAEAAADBB', 'Length (Multiplied)': 54},\n",
       "   {'Time': 14, 'Word': 'ABCFBCCEBAAEAAADBBB', 'Length (Multiplied)': 57},\n",
       "   {'Time': 15, 'Word': 'ABCFBCCEBAAEAAADBBBE', 'Length (Multiplied)': 60}]}]"
      ]
     },
     "metadata": {},
     "output_type": "display_data"
    }
   ],
   "source": [
    "state: state_space = {'Dummy': {'Words': '', 'Total Length': None},\n",
    "                                   'Time': 0,\n",
    "                                   'Simulation Log': []}\n",
    "params: parameter_space = {'DUMMY D Probability': 0.5,\n",
    " 'DUMMY Length Multiplier': 3,\n",
    " 'FP DUMMY Length-1 DEF Control Action': 'DUMMY Length-1 DEF Equal Weight Option',\n",
    " 'FP DUMMY Length-2 ABC Combo Boundary Action': 'DUMMY Length-2 ABC Equal Weight Option'}\n",
    "\n",
    "experiment = model.create_experiment(state, params, record_trajectory=True, use_deepcopy=True)\n",
    "experiment.run(5)\n",
    "trajectories = experiment.trajectories\n",
    "display(experiment.trajectories[-2:])"
   ]
  },
  {
   "cell_type": "markdown",
   "metadata": {},
   "source": [
    "## Batch Experiments"
   ]
  },
  {
   "cell_type": "code",
   "execution_count": 4,
   "metadata": {},
   "outputs": [
    {
     "name": "stdout",
     "output_type": "stream",
     "text": [
      "[[{'Dummy': {'Words': '', 'Total Length': 0}, 'Time': 0, 'Simulation Log': []}, {'Dummy': {'Words': 'BBCD', 'Total Length': 12}, 'Time': 3, 'Simulation Log': [{'Time': 1, 'Word': 'BB', 'Length (Multiplied)': 6}, {'Time': 2, 'Word': 'BBC', 'Length (Multiplied)': 9}, {'Time': 3, 'Word': 'BBCD', 'Length (Multiplied)': 12}]}, {'Dummy': {'Words': 'BBCDBABF', 'Total Length': 24}, 'Time': 6, 'Simulation Log': [{'Time': 1, 'Word': 'BB', 'Length (Multiplied)': 6}, {'Time': 2, 'Word': 'BBC', 'Length (Multiplied)': 9}, {'Time': 3, 'Word': 'BBCD', 'Length (Multiplied)': 12}, {'Time': 4, 'Word': 'BBCDBA', 'Length (Multiplied)': 18}, {'Time': 5, 'Word': 'BBCDBAB', 'Length (Multiplied)': 21}, {'Time': 6, 'Word': 'BBCDBABF', 'Length (Multiplied)': 24}]}, {'Dummy': {'Words': 'BBCDBABFBCBF', 'Total Length': 36}, 'Time': 9, 'Simulation Log': [{'Time': 1, 'Word': 'BB', 'Length (Multiplied)': 6}, {'Time': 2, 'Word': 'BBC', 'Length (Multiplied)': 9}, {'Time': 3, 'Word': 'BBCD', 'Length (Multiplied)': 12}, {'Time': 4, 'Word': 'BBCDBA', 'Length (Multiplied)': 18}, {'Time': 5, 'Word': 'BBCDBAB', 'Length (Multiplied)': 21}, {'Time': 6, 'Word': 'BBCDBABF', 'Length (Multiplied)': 24}, {'Time': 7, 'Word': 'BBCDBABFBC', 'Length (Multiplied)': 30}, {'Time': 8, 'Word': 'BBCDBABFBCB', 'Length (Multiplied)': 33}, {'Time': 9, 'Word': 'BBCDBABFBCBF', 'Length (Multiplied)': 36}]}], [{'Dummy': {'Words': '', 'Total Length': 0}, 'Time': 0, 'Simulation Log': []}, {'Dummy': {'Words': 'CCAE', 'Total Length': 12}, 'Time': 3, 'Simulation Log': [{'Time': 1, 'Word': 'CC', 'Length (Multiplied)': 6}, {'Time': 2, 'Word': 'CCA', 'Length (Multiplied)': 9}, {'Time': 3, 'Word': 'CCAE', 'Length (Multiplied)': 12}]}, {'Dummy': {'Words': 'CCAEACAD', 'Total Length': 24}, 'Time': 6, 'Simulation Log': [{'Time': 1, 'Word': 'CC', 'Length (Multiplied)': 6}, {'Time': 2, 'Word': 'CCA', 'Length (Multiplied)': 9}, {'Time': 3, 'Word': 'CCAE', 'Length (Multiplied)': 12}, {'Time': 4, 'Word': 'CCAEAC', 'Length (Multiplied)': 18}, {'Time': 5, 'Word': 'CCAEACA', 'Length (Multiplied)': 21}, {'Time': 6, 'Word': 'CCAEACAD', 'Length (Multiplied)': 24}]}, {'Dummy': {'Words': 'CCAEACADBACE', 'Total Length': 36}, 'Time': 9, 'Simulation Log': [{'Time': 1, 'Word': 'CC', 'Length (Multiplied)': 6}, {'Time': 2, 'Word': 'CCA', 'Length (Multiplied)': 9}, {'Time': 3, 'Word': 'CCAE', 'Length (Multiplied)': 12}, {'Time': 4, 'Word': 'CCAEAC', 'Length (Multiplied)': 18}, {'Time': 5, 'Word': 'CCAEACA', 'Length (Multiplied)': 21}, {'Time': 6, 'Word': 'CCAEACAD', 'Length (Multiplied)': 24}, {'Time': 7, 'Word': 'CCAEACADBA', 'Length (Multiplied)': 30}, {'Time': 8, 'Word': 'CCAEACADBAC', 'Length (Multiplied)': 33}, {'Time': 9, 'Word': 'CCAEACADBACE', 'Length (Multiplied)': 36}]}]]\n",
      "2\n",
      "4\n"
     ]
    }
   ],
   "source": [
    "from typing import List\n",
    "state: list = [{'Dummy': {'Words': '', 'Total Length': None},\n",
    "                                   'Time': 0,\n",
    "                                   'Simulation Log': []},\n",
    "                            {'Dummy': {'Words': '', 'Total Length': None},\n",
    "                                   'Time': 0,\n",
    "                                   'Simulation Log': []}]\n",
    "params: list = [{'DUMMY D Probability': 0.5,\n",
    " 'DUMMY Length Multiplier': 3,\n",
    " 'FP DUMMY Length-1 DEF Control Action': 'DUMMY Length-1 DEF Equal Weight Option',\n",
    " 'FP DUMMY Length-2 ABC Combo Boundary Action': 'DUMMY Length-2 ABC Equal Weight Option'},\n",
    " {'DUMMY D Probability': 0.1,\n",
    " 'DUMMY Length Multiplier': 3,\n",
    " 'FP DUMMY Length-1 DEF Control Action': 'DUMMY Length-1 DEF Equal Weight Option',\n",
    " 'FP DUMMY Length-2 ABC Combo Boundary Action': 'DUMMY Length-2 ABC Equal Weight Option'}]\n",
    "batch_experiments = model.create_batch_experiments(state, params, record_trajectory=True, use_deepcopy=True)\n",
    "batch_experiments.run(3)\n",
    "print(batch_experiments.trajectories)\n",
    "print(len(batch_experiments.trajectories))\n",
    "print(len(batch_experiments.trajectories[0]))"
   ]
  }
 ],
 "metadata": {
  "kernelspec": {
   "display_name": "MSML",
   "language": "python",
   "name": "python3"
  },
  "language_info": {
   "codemirror_mode": {
    "name": "ipython",
    "version": 3
   },
   "file_extension": ".py",
   "mimetype": "text/x-python",
   "name": "python",
   "nbconvert_exporter": "python",
   "pygments_lexer": "ipython3",
   "version": "3.9.19"
  }
 },
 "nbformat": 4,
 "nbformat_minor": 2
}
