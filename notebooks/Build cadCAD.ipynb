{
 "cells": [
  {
   "cell_type": "markdown",
   "metadata": {},
   "source": [
    "# cadCAD Model Creation\n",
    "\n",
    "This notebook shows how to build an actual cadCAD model (from the spec builder side) versus the other cadCAD notebook shows how cadCAD models could be handed off to a data scientist with no need to build them.\n",
    "\n",
    "## Initialize Mathematical Specification"
   ]
  },
  {
   "cell_type": "code",
   "execution_count": 1,
   "metadata": {},
   "outputs": [],
   "source": [
    "import sys\n",
    "import os\n",
    "\n",
    "sys.path.append(os.path.abspath('..'))\n",
    "\n",
    "from simulation import (params_base, state_base, compute_starting_total_length, check_d_probability, post_processing_function,\n",
    "                        percent_ending_in_d_metric, average_d_count_metric, plot_length_single_simulation,)\n",
    "\n",
    "\n",
    "from math_spec_mapping import load_from_json, get_nested_types\n",
    "#sys.path.append(os.path.abspath('../..'))\n",
    "#from MSML.src.math_spec_mapping import (load_from_json, get_nested_types)\n",
    "\n",
    "from copy import deepcopy\n",
    "from src import math_spec_json\n",
    "\n",
    "ms = load_from_json(deepcopy(math_spec_json), spec_path=\"../src\")"
   ]
  },
  {
   "cell_type": "markdown",
   "metadata": {},
   "source": [
    "## Create a cadCAD Simulation"
   ]
  },
  {
   "cell_type": "code",
   "execution_count": 2,
   "metadata": {},
   "outputs": [],
   "source": [
    "blocks = [\"DUMMY Length-2 Boundary Wiring\",\n",
    "               \"DUMMY Length-1 Boundary Wiring\",\n",
    "               \"DUMMY Control Wiring\"]\n",
    "\n",
    "state_space, parameter_space, model = (ms.build_cadCAD(blocks,\n",
    "                  state_preperation_functions=[compute_starting_total_length],\n",
    "                  parameter_preperation_functions=[check_d_probability],)).values()"
   ]
  },
  {
   "cell_type": "markdown",
   "metadata": {},
   "source": [
    "Display the nested types involved in the state space and parameter space"
   ]
  },
  {
   "cell_type": "code",
   "execution_count": 3,
   "metadata": {},
   "outputs": [
    {
     "data": {
      "text/plain": [
       "{'Dummy': {'Words': str, 'Total Length': int},\n",
       " 'Time': int,\n",
       " 'Simulation Log': [{'Time': int, 'Word': str, 'Length (Multiplied)': int}]}"
      ]
     },
     "metadata": {},
     "output_type": "display_data"
    },
    {
     "name": "stdout",
     "output_type": "stream",
     "text": [
      "\n"
     ]
    },
    {
     "data": {
      "text/plain": [
       "{'DUMMY D Probability': float,\n",
       " 'DUMMY Length Multiplier': int,\n",
       " 'FP DUMMY Length-2 ABC Combo Boundary Action': typing.Literal['DUMMY Length-2 ABC Equal Weight Option', 'DUMMY Length-2 ABC Equal Weight 2 Option'],\n",
       " 'FP DUMMY Length-1 DEF Control Action': typing.Literal['DUMMY Length-1 DEF Equal Weight Option', 'DUMMY Length-1 DEF D Probability Option']}"
      ]
     },
     "metadata": {},
     "output_type": "display_data"
    }
   ],
   "source": [
    "display(get_nested_types(state_space))\n",
    "print()\n",
    "display(get_nested_types(parameter_space))"
   ]
  },
  {
   "cell_type": "markdown",
   "metadata": {},
   "source": [
    "## Data Scientist Interface is the Simulation Object\n",
    "\n",
    "### Single Experiment"
   ]
  },
  {
   "cell_type": "code",
   "execution_count": 4,
   "metadata": {},
   "outputs": [
    {
     "data": {
      "text/plain": [
       "[{'Dummy': {'Words': 'BBAEAACEABAFBCBD', 'Total Length': 48},\n",
       "  'Time': 12,\n",
       "  'Simulation Log': [{'Time': 1, 'Word': 'BB', 'Length (Multiplied)': 6},\n",
       "   {'Time': 2, 'Word': 'BBA', 'Length (Multiplied)': 9},\n",
       "   {'Time': 3, 'Word': 'BBAE', 'Length (Multiplied)': 12},\n",
       "   {'Time': 4, 'Word': 'BBAEAA', 'Length (Multiplied)': 18},\n",
       "   {'Time': 5, 'Word': 'BBAEAAC', 'Length (Multiplied)': 21},\n",
       "   {'Time': 6, 'Word': 'BBAEAACE', 'Length (Multiplied)': 24},\n",
       "   {'Time': 7, 'Word': 'BBAEAACEAB', 'Length (Multiplied)': 30},\n",
       "   {'Time': 8, 'Word': 'BBAEAACEABA', 'Length (Multiplied)': 33},\n",
       "   {'Time': 9, 'Word': 'BBAEAACEABAF', 'Length (Multiplied)': 36},\n",
       "   {'Time': 10, 'Word': 'BBAEAACEABAFBC', 'Length (Multiplied)': 42},\n",
       "   {'Time': 11, 'Word': 'BBAEAACEABAFBCB', 'Length (Multiplied)': 45},\n",
       "   {'Time': 12, 'Word': 'BBAEAACEABAFBCBD', 'Length (Multiplied)': 48}]},\n",
       " {'Dummy': {'Words': 'BBAEAACEABAFBCBDCAAF', 'Total Length': 60},\n",
       "  'Time': 15,\n",
       "  'Simulation Log': [{'Time': 1, 'Word': 'BB', 'Length (Multiplied)': 6},\n",
       "   {'Time': 2, 'Word': 'BBA', 'Length (Multiplied)': 9},\n",
       "   {'Time': 3, 'Word': 'BBAE', 'Length (Multiplied)': 12},\n",
       "   {'Time': 4, 'Word': 'BBAEAA', 'Length (Multiplied)': 18},\n",
       "   {'Time': 5, 'Word': 'BBAEAAC', 'Length (Multiplied)': 21},\n",
       "   {'Time': 6, 'Word': 'BBAEAACE', 'Length (Multiplied)': 24},\n",
       "   {'Time': 7, 'Word': 'BBAEAACEAB', 'Length (Multiplied)': 30},\n",
       "   {'Time': 8, 'Word': 'BBAEAACEABA', 'Length (Multiplied)': 33},\n",
       "   {'Time': 9, 'Word': 'BBAEAACEABAF', 'Length (Multiplied)': 36},\n",
       "   {'Time': 10, 'Word': 'BBAEAACEABAFBC', 'Length (Multiplied)': 42},\n",
       "   {'Time': 11, 'Word': 'BBAEAACEABAFBCB', 'Length (Multiplied)': 45},\n",
       "   {'Time': 12, 'Word': 'BBAEAACEABAFBCBD', 'Length (Multiplied)': 48},\n",
       "   {'Time': 13, 'Word': 'BBAEAACEABAFBCBDCA', 'Length (Multiplied)': 54},\n",
       "   {'Time': 14, 'Word': 'BBAEAACEABAFBCBDCAA', 'Length (Multiplied)': 57},\n",
       "   {'Time': 15, 'Word': 'BBAEAACEABAFBCBDCAAF', 'Length (Multiplied)': 60}]}]"
      ]
     },
     "metadata": {},
     "output_type": "display_data"
    }
   ],
   "source": [
    "state: state_space = {'Dummy': {'Words': '', 'Total Length': None},\n",
    "                                   'Time': 0,\n",
    "                                   'Simulation Log': []}\n",
    "params: parameter_space = {'DUMMY D Probability': 0.5,\n",
    " 'DUMMY Length Multiplier': 3,\n",
    " 'FP DUMMY Length-1 DEF Control Action': 'DUMMY Length-1 DEF Equal Weight Option',\n",
    " 'FP DUMMY Length-2 ABC Combo Boundary Action': 'DUMMY Length-2 ABC Equal Weight Option'}\n",
    "\n",
    "experiment = model.create_experiment(state, params, record_trajectory=True, use_deepcopy=True)\n",
    "experiment.run(5)\n",
    "trajectories = experiment.trajectories\n",
    "display(experiment.trajectories[-2:])"
   ]
  },
  {
   "cell_type": "markdown",
   "metadata": {},
   "source": [
    "## Batch Experiments"
   ]
  },
  {
   "cell_type": "code",
   "execution_count": 5,
   "metadata": {},
   "outputs": [
    {
     "name": "stdout",
     "output_type": "stream",
     "text": [
      "[[{'Dummy': {'Words': '', 'Total Length': 0}, 'Time': 0, 'Simulation Log': []}, {'Dummy': {'Words': 'CCBD', 'Total Length': 12}, 'Time': 3, 'Simulation Log': [{'Time': 1, 'Word': 'CC', 'Length (Multiplied)': 6}, {'Time': 2, 'Word': 'CCB', 'Length (Multiplied)': 9}, {'Time': 3, 'Word': 'CCBD', 'Length (Multiplied)': 12}]}, {'Dummy': {'Words': 'CCBDBCBD', 'Total Length': 24}, 'Time': 6, 'Simulation Log': [{'Time': 1, 'Word': 'CC', 'Length (Multiplied)': 6}, {'Time': 2, 'Word': 'CCB', 'Length (Multiplied)': 9}, {'Time': 3, 'Word': 'CCBD', 'Length (Multiplied)': 12}, {'Time': 4, 'Word': 'CCBDBC', 'Length (Multiplied)': 18}, {'Time': 5, 'Word': 'CCBDBCB', 'Length (Multiplied)': 21}, {'Time': 6, 'Word': 'CCBDBCBD', 'Length (Multiplied)': 24}]}, {'Dummy': {'Words': 'CCBDBCBDAABF', 'Total Length': 36}, 'Time': 9, 'Simulation Log': [{'Time': 1, 'Word': 'CC', 'Length (Multiplied)': 6}, {'Time': 2, 'Word': 'CCB', 'Length (Multiplied)': 9}, {'Time': 3, 'Word': 'CCBD', 'Length (Multiplied)': 12}, {'Time': 4, 'Word': 'CCBDBC', 'Length (Multiplied)': 18}, {'Time': 5, 'Word': 'CCBDBCB', 'Length (Multiplied)': 21}, {'Time': 6, 'Word': 'CCBDBCBD', 'Length (Multiplied)': 24}, {'Time': 7, 'Word': 'CCBDBCBDAA', 'Length (Multiplied)': 30}, {'Time': 8, 'Word': 'CCBDBCBDAAB', 'Length (Multiplied)': 33}, {'Time': 9, 'Word': 'CCBDBCBDAABF', 'Length (Multiplied)': 36}]}], [{'Dummy': {'Words': '', 'Total Length': 0}, 'Time': 0, 'Simulation Log': []}, {'Dummy': {'Words': 'CCCD', 'Total Length': 12}, 'Time': 3, 'Simulation Log': [{'Time': 1, 'Word': 'CC', 'Length (Multiplied)': 6}, {'Time': 2, 'Word': 'CCC', 'Length (Multiplied)': 9}, {'Time': 3, 'Word': 'CCCD', 'Length (Multiplied)': 12}]}, {'Dummy': {'Words': 'CCCDBABD', 'Total Length': 24}, 'Time': 6, 'Simulation Log': [{'Time': 1, 'Word': 'CC', 'Length (Multiplied)': 6}, {'Time': 2, 'Word': 'CCC', 'Length (Multiplied)': 9}, {'Time': 3, 'Word': 'CCCD', 'Length (Multiplied)': 12}, {'Time': 4, 'Word': 'CCCDBA', 'Length (Multiplied)': 18}, {'Time': 5, 'Word': 'CCCDBAB', 'Length (Multiplied)': 21}, {'Time': 6, 'Word': 'CCCDBABD', 'Length (Multiplied)': 24}]}, {'Dummy': {'Words': 'CCCDBABDBCBD', 'Total Length': 36}, 'Time': 9, 'Simulation Log': [{'Time': 1, 'Word': 'CC', 'Length (Multiplied)': 6}, {'Time': 2, 'Word': 'CCC', 'Length (Multiplied)': 9}, {'Time': 3, 'Word': 'CCCD', 'Length (Multiplied)': 12}, {'Time': 4, 'Word': 'CCCDBA', 'Length (Multiplied)': 18}, {'Time': 5, 'Word': 'CCCDBAB', 'Length (Multiplied)': 21}, {'Time': 6, 'Word': 'CCCDBABD', 'Length (Multiplied)': 24}, {'Time': 7, 'Word': 'CCCDBABDBC', 'Length (Multiplied)': 30}, {'Time': 8, 'Word': 'CCCDBABDBCB', 'Length (Multiplied)': 33}, {'Time': 9, 'Word': 'CCCDBABDBCBD', 'Length (Multiplied)': 36}]}]]\n",
      "2\n",
      "4\n"
     ]
    }
   ],
   "source": [
    "from typing import List\n",
    "state: list = [{'Dummy': {'Words': '', 'Total Length': None},\n",
    "                                   'Time': 0,\n",
    "                                   'Simulation Log': []},\n",
    "                            {'Dummy': {'Words': '', 'Total Length': None},\n",
    "                                   'Time': 0,\n",
    "                                   'Simulation Log': []}]\n",
    "params: list = [{'DUMMY D Probability': 0.5,\n",
    " 'DUMMY Length Multiplier': 3,\n",
    " 'FP DUMMY Length-1 DEF Control Action': 'DUMMY Length-1 DEF Equal Weight Option',\n",
    " 'FP DUMMY Length-2 ABC Combo Boundary Action': 'DUMMY Length-2 ABC Equal Weight Option'},\n",
    " {'DUMMY D Probability': 0.1,\n",
    " 'DUMMY Length Multiplier': 3,\n",
    " 'FP DUMMY Length-1 DEF Control Action': 'DUMMY Length-1 DEF Equal Weight Option',\n",
    " 'FP DUMMY Length-2 ABC Combo Boundary Action': 'DUMMY Length-2 ABC Equal Weight Option'}]\n",
    "batch_experiments = model.create_batch_experiments(state, params, record_trajectory=True, use_deepcopy=True)\n",
    "batch_experiments.run(3)\n",
    "print(batch_experiments.trajectories)\n",
    "print(len(batch_experiments.trajectories))\n",
    "print(len(batch_experiments.trajectories[0]))"
   ]
  },
  {
   "cell_type": "markdown",
   "metadata": {},
   "source": [
    "## Appendix A. Show Detailed State and Parameter Tables using MSML functionality"
   ]
  },
  {
   "cell_type": "code",
   "execution_count": 8,
   "metadata": {},
   "outputs": [
    {
     "data": {
      "text/markdown": [
       "# State"
      ],
      "text/plain": [
       "<IPython.core.display.Markdown object>"
      ]
     },
     "metadata": {},
     "output_type": "display_data"
    },
    {
     "data": {
      "text/markdown": [
       "### Global State\n",
       "\n",
       "| Name | Description | Type | Symbol | Domain | Initial Value |\n",
       "| --- | --- | --- | --- | --- | --- |\n",
       "|Dummy|The dummy entity|Entity Type||| {'Words': '', 'Total Length': None} |\n",
       "|Time|The clock time|DUMMY Integer Type||| 0 |\n",
       "|Simulation Log|The simulation log holding historical data|Simulation Log Type||| [] |\n",
       "\n",
       "### DUMMY State\n",
       "\n",
       "| Name | Description | Type | Symbol | Domain |\n",
       "| --- | --- | --- | --- | --- |\n",
       "|Words|All words that were created|DUMMY ABCDEF Type|||\n",
       "|Total Length|The total length of words * multiplier|DUMMY Integer Type|||\n",
       "\n"
      ],
      "text/plain": [
       "<IPython.core.display.Markdown object>"
      ]
     },
     "metadata": {},
     "output_type": "display_data"
    },
    {
     "data": {
      "text/markdown": [
       "# Parameters"
      ],
      "text/plain": [
       "<IPython.core.display.Markdown object>"
      ]
     },
     "metadata": {},
     "output_type": "display_data"
    },
    {
     "data": {
      "text/markdown": [
       "| Name | Description | Parameter Class | Symbol | Domain | Initial Value |\n",
       "| --- | --- | --- | --- | --- | --- |\n",
       "|DUMMY D Probability|The probability that D is chosen|Behavioral||[0, 1]| 0.5 |\n",
       "|DUMMY Length Multiplier|A multiplier to multiply into length calculations|System||$\\mathbb{Z}$| 3 |\n"
      ],
      "text/plain": [
       "<IPython.core.display.Markdown object>"
      ]
     },
     "metadata": {},
     "output_type": "display_data"
    }
   ],
   "source": [
    "from math_spec_mapping import write_initial_state_variables_tables, write_parameter_table_markdown\n",
    "from IPython.display import Markdown\n",
    "\n",
    "table1 = write_initial_state_variables_tables(ms, initial_values=state_base)\n",
    "table2 = write_parameter_table_markdown(ms, initial_values=params_base)\n",
    "\n",
    "display(Markdown(\"# State\"))\n",
    "display(Markdown(table1))\n",
    "display(Markdown(\"# Parameters\"))\n",
    "display(Markdown(table2))"
   ]
  }
 ],
 "metadata": {
  "kernelspec": {
   "display_name": "MSML",
   "language": "python",
   "name": "python3"
  },
  "language_info": {
   "codemirror_mode": {
    "name": "ipython",
    "version": 3
   },
   "file_extension": ".py",
   "mimetype": "text/x-python",
   "name": "python",
   "nbconvert_exporter": "python",
   "pygments_lexer": "ipython3",
   "version": "3.9.19"
  }
 },
 "nbformat": 4,
 "nbformat_minor": 2
}
