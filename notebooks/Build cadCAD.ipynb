{
 "cells": [
  {
   "cell_type": "markdown",
   "metadata": {},
   "source": [
    "# cadCAD Model Creation\n",
    "\n",
    "## Initialize Mathematical Specification"
   ]
  },
  {
   "cell_type": "code",
   "execution_count": 1,
   "metadata": {},
   "outputs": [],
   "source": [
    "import sys\n",
    "import os\n",
    "\n",
    "sys.path.append(os.path.abspath('..'))\n",
    "\n",
    "from simulation import (params_base, state_base, compute_starting_total_length, check_d_probability, post_processing_function,\n",
    "                        percent_ending_in_d_metric, average_d_count_metric, plot_length_single_simulation)\n",
    "\n",
    "sys.path.append(os.path.abspath('../..'))\n",
    "from MSML.src.math_spec_mapping import (load_from_json)\n",
    "\n",
    "from copy import deepcopy\n",
    "from src import math_spec_json\n",
    "\n",
    "ms = load_from_json(deepcopy(math_spec_json))"
   ]
  },
  {
   "cell_type": "markdown",
   "metadata": {},
   "source": [
    "## Create a cadCAD Simulation"
   ]
  },
  {
   "cell_type": "code",
   "execution_count": 2,
   "metadata": {},
   "outputs": [],
   "source": [
    "blocks = [\"DUMMY Length-2 Boundary Wiring\",\n",
    "               \"DUMMY Length-1 Boundary Wiring\",\n",
    "               \"DUMMY Control Wiring\"]\n",
    "\n",
    "state_space, parameter_space, model = (ms.build_cadCAD(blocks,\n",
    "                  state_preperation_functions=[compute_starting_total_length],\n",
    "                  parameter_preperation_functions=[check_d_probability],)).values()"
   ]
  },
  {
   "cell_type": "markdown",
   "metadata": {},
   "source": [
    "## Data Scientist Interface is the Simulation Object\n",
    "\n",
    "### Single Experiment"
   ]
  },
  {
   "cell_type": "code",
   "execution_count": 3,
   "metadata": {},
   "outputs": [
    {
     "data": {
      "text/plain": [
       "[{'Dummy': {'Words': 'AABDCBBDBBAECBAF', 'Total Length': 48},\n",
       "  'Time': 12,\n",
       "  'Simulation Log': [{'Time': 1, 'Word': 'AA', 'Length (Multiplied)': 6},\n",
       "   {'Time': 2, 'Word': 'AAB', 'Length (Multiplied)': 9},\n",
       "   {'Time': 3, 'Word': 'AABD', 'Length (Multiplied)': 12},\n",
       "   {'Time': 4, 'Word': 'AABDCB', 'Length (Multiplied)': 18},\n",
       "   {'Time': 5, 'Word': 'AABDCBB', 'Length (Multiplied)': 21},\n",
       "   {'Time': 6, 'Word': 'AABDCBBD', 'Length (Multiplied)': 24},\n",
       "   {'Time': 7, 'Word': 'AABDCBBDBB', 'Length (Multiplied)': 30},\n",
       "   {'Time': 8, 'Word': 'AABDCBBDBBA', 'Length (Multiplied)': 33},\n",
       "   {'Time': 9, 'Word': 'AABDCBBDBBAE', 'Length (Multiplied)': 36},\n",
       "   {'Time': 10, 'Word': 'AABDCBBDBBAECB', 'Length (Multiplied)': 42},\n",
       "   {'Time': 11, 'Word': 'AABDCBBDBBAECBA', 'Length (Multiplied)': 45},\n",
       "   {'Time': 12, 'Word': 'AABDCBBDBBAECBAF', 'Length (Multiplied)': 48}]},\n",
       " {'Dummy': {'Words': 'AABDCBBDBBAECBAFBACF', 'Total Length': 60},\n",
       "  'Time': 15,\n",
       "  'Simulation Log': [{'Time': 1, 'Word': 'AA', 'Length (Multiplied)': 6},\n",
       "   {'Time': 2, 'Word': 'AAB', 'Length (Multiplied)': 9},\n",
       "   {'Time': 3, 'Word': 'AABD', 'Length (Multiplied)': 12},\n",
       "   {'Time': 4, 'Word': 'AABDCB', 'Length (Multiplied)': 18},\n",
       "   {'Time': 5, 'Word': 'AABDCBB', 'Length (Multiplied)': 21},\n",
       "   {'Time': 6, 'Word': 'AABDCBBD', 'Length (Multiplied)': 24},\n",
       "   {'Time': 7, 'Word': 'AABDCBBDBB', 'Length (Multiplied)': 30},\n",
       "   {'Time': 8, 'Word': 'AABDCBBDBBA', 'Length (Multiplied)': 33},\n",
       "   {'Time': 9, 'Word': 'AABDCBBDBBAE', 'Length (Multiplied)': 36},\n",
       "   {'Time': 10, 'Word': 'AABDCBBDBBAECB', 'Length (Multiplied)': 42},\n",
       "   {'Time': 11, 'Word': 'AABDCBBDBBAECBA', 'Length (Multiplied)': 45},\n",
       "   {'Time': 12, 'Word': 'AABDCBBDBBAECBAF', 'Length (Multiplied)': 48},\n",
       "   {'Time': 13, 'Word': 'AABDCBBDBBAECBAFBA', 'Length (Multiplied)': 54},\n",
       "   {'Time': 14, 'Word': 'AABDCBBDBBAECBAFBAC', 'Length (Multiplied)': 57},\n",
       "   {'Time': 15, 'Word': 'AABDCBBDBBAECBAFBACF', 'Length (Multiplied)': 60}]}]"
      ]
     },
     "metadata": {},
     "output_type": "display_data"
    }
   ],
   "source": [
    "state: state_space = {'Dummy': {'Words': '', 'Total Length': None},\n",
    "                                   'Time': 0,\n",
    "                                   'Simulation Log': []}\n",
    "params: parameter_space = {'DUMMY D Probability': 0.5,\n",
    " 'DUMMY Length Multiplier': 3,\n",
    " 'FP DUMMY Length-1 DEF Control Action': 'DUMMY Length-1 DEF Equal Weight Option',\n",
    " 'FP DUMMY Length-2 ABC Combo Boundary Action': 'DUMMY Length-2 ABC Equal Weight Option'}\n",
    "\n",
    "experiment = model.create_experiment(state, params, record_trajectory=True, use_deepcopy=True)\n",
    "experiment.run(5)\n",
    "trajectories = experiment.trajectories\n",
    "display(experiment.trajectories[-2:])"
   ]
  },
  {
   "cell_type": "markdown",
   "metadata": {},
   "source": [
    "## Batch Experiments"
   ]
  },
  {
   "cell_type": "code",
   "execution_count": 5,
   "metadata": {},
   "outputs": [],
   "source": [
    "from typing import List\n",
    "state: list = [{'Dummy': {'Words': '', 'Total Length': None},\n",
    "                                   'Time': 0,\n",
    "                                   'Simulation Log': []},\n",
    "                            {'Dummy': {'Words': '', 'Total Length': None},\n",
    "                                   'Time': 0,\n",
    "                                   'Simulation Log': []}]\n",
    "params: list = [{'DUMMY D Probability': 0.5,\n",
    " 'DUMMY Length Multiplier': 3,\n",
    " 'FP DUMMY Length-1 DEF Control Action': 'DUMMY Length-1 DEF Equal Weight Option',\n",
    " 'FP DUMMY Length-2 ABC Combo Boundary Action': 'DUMMY Length-2 ABC Equal Weight Option'},\n",
    " {'DUMMY D Probability': 0.1,\n",
    " 'DUMMY Length Multiplier': 3,\n",
    " 'FP DUMMY Length-1 DEF Control Action': 'DUMMY Length-1 DEF Equal Weight Option',\n",
    " 'FP DUMMY Length-2 ABC Combo Boundary Action': 'DUMMY Length-2 ABC Equal Weight Option'}]\n",
    "batch_experiments = model.create_batch_experiments(state, params, record_trajectory=True, use_deepcopy=True)"
   ]
  },
  {
   "cell_type": "code",
   "execution_count": null,
   "metadata": {},
   "outputs": [],
   "source": []
  },
  {
   "cell_type": "code",
   "execution_count": null,
   "metadata": {},
   "outputs": [],
   "source": []
  }
 ],
 "metadata": {
  "kernelspec": {
   "display_name": "MSML",
   "language": "python",
   "name": "python3"
  },
  "language_info": {
   "codemirror_mode": {
    "name": "ipython",
    "version": 3
   },
   "file_extension": ".py",
   "mimetype": "text/x-python",
   "name": "python",
   "nbconvert_exporter": "python",
   "pygments_lexer": "ipython3",
   "version": "3.9.19"
  }
 },
 "nbformat": 4,
 "nbformat_minor": 2
}
