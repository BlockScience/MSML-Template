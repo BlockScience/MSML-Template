{
 "cells": [
  {
   "cell_type": "markdown",
   "metadata": {},
   "source": [
    "# cadCAD Model Creation\n",
    "\n",
    "## Initialize Mathematical Specification"
   ]
  },
  {
   "cell_type": "code",
   "execution_count": 1,
   "metadata": {},
   "outputs": [],
   "source": [
    "import sys\n",
    "import os\n",
    "\n",
    "sys.path.append(os.path.abspath('..'))\n",
    "\n",
    "from simulation import (params_base, state_base, compute_starting_total_length, check_d_probability, post_processing_function,\n",
    "                        percent_ending_in_d_metric, average_d_count_metric, plot_length_single_simulation)\n",
    "\n",
    "sys.path.append(os.path.abspath('../..'))\n",
    "from MSML.src.math_spec_mapping import (load_from_json)\n",
    "\n",
    "from copy import deepcopy\n",
    "from src import math_spec_json\n",
    "\n",
    "ms = load_from_json(deepcopy(math_spec_json))"
   ]
  },
  {
   "cell_type": "markdown",
   "metadata": {},
   "source": [
    "## Create a cadCAD Simulation"
   ]
  },
  {
   "cell_type": "code",
   "execution_count": 2,
   "metadata": {},
   "outputs": [],
   "source": [
    "blocks = [\"DUMMY Log Simulation Data Mechanism\"] + [\"DUMMY Length-2 Boundary Wiring\",\n",
    "               \"DUMMY Length-1 Boundary Wiring\"] * 10 + [\"DUMMY Length-2 Boundary Wiring\",\n",
    "               \"DUMMY Length-1 Boundary Wiring\",\n",
    "               \"DUMMY Control Wiring\"] * 10\n",
    "\n",
    "simulation = ms.build_cadCAD(blocks, post_processing_function,\n",
    "                  state_preperation_functions=[compute_starting_total_length],\n",
    "                  parameter_preperation_functions=[check_d_probability],\n",
    "                  metrics_functions=[percent_ending_in_d_metric,\n",
    "                                     average_d_count_metric])"
   ]
  },
  {
   "cell_type": "markdown",
   "metadata": {},
   "source": [
    "## Data Scientist Interface is the Simulation Object"
   ]
  },
  {
   "cell_type": "code",
   "execution_count": 5,
   "metadata": {},
   "outputs": [
    {
     "name": "stdout",
     "output_type": "stream",
     "text": [
      "    Time                                               Word  \\\n",
      "0      0                                                      \n",
      "1      1                                                 AC   \n",
      "2      2                                                ACB   \n",
      "3      3                                              ACBCC   \n",
      "4      4                                             ACBCCC   \n",
      "5      5                                           ACBCCCBC   \n",
      "6      6                                          ACBCCCBCB   \n",
      "7      7                                        ACBCCCBCBAA   \n",
      "8      8                                       ACBCCCBCBAAC   \n",
      "9      9                                     ACBCCCBCBAACAA   \n",
      "10    10                                    ACBCCCBCBAACAAB   \n",
      "11    11                                  ACBCCCBCBAACAABBB   \n",
      "12    12                                 ACBCCCBCBAACAABBBB   \n",
      "13    13                               ACBCCCBCBAACAABBBBAA   \n",
      "14    14                              ACBCCCBCBAACAABBBBAAC   \n",
      "15    15                            ACBCCCBCBAACAABBBBAACCC   \n",
      "16    16                           ACBCCCBCBAACAABBBBAACCCB   \n",
      "17    17                         ACBCCCBCBAACAABBBBAACCCBAA   \n",
      "18    18                        ACBCCCBCBAACAABBBBAACCCBAAC   \n",
      "19    19                      ACBCCCBCBAACAABBBBAACCCBAACCA   \n",
      "20    20                     ACBCCCBCBAACAABBBBAACCCBAACCAC   \n",
      "21    21                   ACBCCCBCBAACAABBBBAACCCBAACCACBC   \n",
      "22    22                  ACBCCCBCBAACAABBBBAACCCBAACCACBCB   \n",
      "23    23                 ACBCCCBCBAACAABBBBAACCCBAACCACBCBD   \n",
      "24    24               ACBCCCBCBAACAABBBBAACCCBAACCACBCBDBA   \n",
      "25    25              ACBCCCBCBAACAABBBBAACCCBAACCACBCBDBAA   \n",
      "26    26             ACBCCCBCBAACAABBBBAACCCBAACCACBCBDBAAD   \n",
      "27    27           ACBCCCBCBAACAABBBBAACCCBAACCACBCBDBAADCA   \n",
      "28    28          ACBCCCBCBAACAABBBBAACCCBAACCACBCBDBAADCAC   \n",
      "29    29         ACBCCCBCBAACAABBBBAACCCBAACCACBCBDBAADCACF   \n",
      "30    30       ACBCCCBCBAACAABBBBAACCCBAACCACBCBDBAADCACFAC   \n",
      "31    31      ACBCCCBCBAACAABBBBAACCCBAACCACBCBDBAADCACFACB   \n",
      "32    32     ACBCCCBCBAACAABBBBAACCCBAACCACBCBDBAADCACFACBF   \n",
      "33    33   ACBCCCBCBAACAABBBBAACCCBAACCACBCBDBAADCACFACBFBB   \n",
      "34    34  ACBCCCBCBAACAABBBBAACCCBAACCACBCBDBAADCACFACBFBBA   \n",
      "35    35  ACBCCCBCBAACAABBBBAACCCBAACCACBCBDBAADCACFACBF...   \n",
      "36    36  ACBCCCBCBAACAABBBBAACCCBAACCACBCBDBAADCACFACBF...   \n",
      "37    37  ACBCCCBCBAACAABBBBAACCCBAACCACBCBDBAADCACFACBF...   \n",
      "38    38  ACBCCCBCBAACAABBBBAACCCBAACCACBCBDBAADCACFACBF...   \n",
      "39    39  ACBCCCBCBAACAABBBBAACCCBAACCACBCBDBAADCACFACBF...   \n",
      "40    40  ACBCCCBCBAACAABBBBAACCCBAACCACBCBDBAADCACFACBF...   \n",
      "41    41  ACBCCCBCBAACAABBBBAACCCBAACCACBCBDBAADCACFACBF...   \n",
      "42    42  ACBCCCBCBAACAABBBBAACCCBAACCACBCBDBAADCACFACBF...   \n",
      "43    43  ACBCCCBCBAACAABBBBAACCCBAACCACBCBDBAADCACFACBF...   \n",
      "44    44  ACBCCCBCBAACAABBBBAACCCBAACCACBCBDBAADCACFACBF...   \n",
      "45    45  ACBCCCBCBAACAABBBBAACCCBAACCACBCBDBAADCACFACBF...   \n",
      "46    46  ACBCCCBCBAACAABBBBAACCCBAACCACBCBDBAADCACFACBF...   \n",
      "47    47  ACBCCCBCBAACAABBBBAACCCBAACCACBCBDBAADCACFACBF...   \n",
      "48    48  ACBCCCBCBAACAABBBBAACCCBAACCACBCBDBAADCACFACBF...   \n",
      "49    49  ACBCCCBCBAACAABBBBAACCCBAACCACBCBDBAADCACFACBF...   \n",
      "50    50  ACBCCCBCBAACAABBBBAACCCBAACCACBCBDBAADCACFACBF...   \n",
      "\n",
      "    Length (Multiplied)  Length (Nominal)  D Count  \n",
      "0                     0               0.0      NaN  \n",
      "1                     6               2.0      0.0  \n",
      "2                     9               3.0      0.0  \n",
      "3                    15               5.0      0.0  \n",
      "4                    18               6.0      0.0  \n",
      "5                    24               8.0      0.0  \n",
      "6                    27               9.0      0.0  \n",
      "7                    33              11.0      0.0  \n",
      "8                    36              12.0      0.0  \n",
      "9                    42              14.0      0.0  \n",
      "10                   45              15.0      0.0  \n",
      "11                   51              17.0      0.0  \n",
      "12                   54              18.0      0.0  \n",
      "13                   60              20.0      0.0  \n",
      "14                   63              21.0      0.0  \n",
      "15                   69              23.0      0.0  \n",
      "16                   72              24.0      0.0  \n",
      "17                   78              26.0      0.0  \n",
      "18                   81              27.0      0.0  \n",
      "19                   87              29.0      0.0  \n",
      "20                   90              30.0      0.0  \n",
      "21                   96              32.0      0.0  \n",
      "22                   99              33.0      0.0  \n",
      "23                  102              34.0      1.0  \n",
      "24                  108              36.0      1.0  \n",
      "25                  111              37.0      1.0  \n",
      "26                  114              38.0      2.0  \n",
      "27                  120              40.0      2.0  \n",
      "28                  123              41.0      2.0  \n",
      "29                  126              42.0      2.0  \n",
      "30                  132              44.0      2.0  \n",
      "31                  135              45.0      2.0  \n",
      "32                  138              46.0      2.0  \n",
      "33                  144              48.0      2.0  \n",
      "34                  147              49.0      2.0  \n",
      "35                  150              50.0      2.0  \n",
      "36                  156              52.0      2.0  \n",
      "37                  159              53.0      2.0  \n",
      "38                  162              54.0      2.0  \n",
      "39                  168              56.0      2.0  \n",
      "40                  171              57.0      2.0  \n",
      "41                  174              58.0      2.0  \n",
      "42                  180              60.0      2.0  \n",
      "43                  183              61.0      2.0  \n",
      "44                  186              62.0      2.0  \n",
      "45                  192              64.0      2.0  \n",
      "46                  195              65.0      2.0  \n",
      "47                  198              66.0      3.0  \n",
      "48                  204              68.0      3.0  \n",
      "49                  207              69.0      3.0  \n",
      "50                  210              70.0      4.0  \n"
     ]
    }
   ],
   "source": [
    "state: simulation[\"StateSpace\"] = {'Dummy': {'Words': '', 'Total Length': None},\n",
    "                                   'Time': 0,\n",
    "                                   'Simulation Log': []}\n",
    "params: simulation[\"ParameterSpace\"] = {'DUMMY D Probability': 0.5,\n",
    " 'DUMMY Length Multiplier': 3,\n",
    " 'FP DUMMY Length-1 DEF Control Action': 'DUMMY Length-1 DEF Equal Weight Option',\n",
    " 'FP DUMMY Length-2 ABC Combo Boundary Action': 'DUMMY Length-2 ABC Equal Weight Option'}\n",
    "\n",
    "state, params, msi, df, metrics = simulation[\"Model\"](state, params)\n",
    "print(df)"
   ]
  }
 ],
 "metadata": {
  "kernelspec": {
   "display_name": "MSML",
   "language": "python",
   "name": "python3"
  },
  "language_info": {
   "codemirror_mode": {
    "name": "ipython",
    "version": 3
   },
   "file_extension": ".py",
   "mimetype": "text/x-python",
   "name": "python",
   "nbconvert_exporter": "python",
   "pygments_lexer": "ipython3",
   "version": "3.9.19"
  }
 },
 "nbformat": 4,
 "nbformat_minor": 2
}
