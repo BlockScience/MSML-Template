{
 "cells": [
  {
   "cell_type": "markdown",
   "metadata": {},
   "source": [
    "# cadCAD Model Creation\n",
    "\n",
    "## Initialize Mathematical Specification"
   ]
  },
  {
   "cell_type": "code",
   "execution_count": 1,
   "metadata": {},
   "outputs": [],
   "source": [
    "import sys\n",
    "import os\n",
    "\n",
    "sys.path.append(os.path.abspath('..'))\n",
    "\n",
    "from simulation import (params_base, state_base, compute_starting_total_length, check_d_probability, post_processing_function,\n",
    "                        percent_ending_in_d_metric, average_d_count_metric, plot_length_single_simulation)\n",
    "\n",
    "sys.path.append(os.path.abspath('../..'))\n",
    "from MSML.src.math_spec_mapping import (load_from_json)\n",
    "\n",
    "from copy import deepcopy\n",
    "from src import math_spec_json\n",
    "\n",
    "ms = load_from_json(deepcopy(math_spec_json))"
   ]
  },
  {
   "cell_type": "markdown",
   "metadata": {},
   "source": [
    "## Create a cadCAD Simulation"
   ]
  },
  {
   "cell_type": "code",
   "execution_count": 2,
   "metadata": {},
   "outputs": [],
   "source": [
    "blocks = [\"DUMMY Length-2 Boundary Wiring\",\n",
    "               \"DUMMY Length-1 Boundary Wiring\",\n",
    "               \"DUMMY Control Wiring\"]\n",
    "\n",
    "state_space, parameter_space, model = (ms.build_cadCAD(blocks,\n",
    "                  state_preperation_functions=[compute_starting_total_length],\n",
    "                  parameter_preperation_functions=[check_d_probability],)).values()"
   ]
  },
  {
   "cell_type": "markdown",
   "metadata": {},
   "source": [
    "## Data Scientist Interface is the Simulation Object"
   ]
  },
  {
   "cell_type": "code",
   "execution_count": 3,
   "metadata": {},
   "outputs": [
    {
     "data": {
      "text/plain": [
       "[{'Dummy': {'Words': '', 'Total Length': 0}, 'Time': 0, 'Simulation Log': []},\n",
       " {'Dummy': {'Words': 'AACD', 'Total Length': 12},\n",
       "  'Time': 3,\n",
       "  'Simulation Log': [{'Time': 1, 'Word': 'AA', 'Length (Multiplied)': 6},\n",
       "   {'Time': 2, 'Word': 'AAC', 'Length (Multiplied)': 9},\n",
       "   {'Time': 3, 'Word': 'AACD', 'Length (Multiplied)': 12}]},\n",
       " {'Dummy': {'Words': 'AACDCBCE', 'Total Length': 24},\n",
       "  'Time': 6,\n",
       "  'Simulation Log': [{'Time': 1, 'Word': 'AA', 'Length (Multiplied)': 6},\n",
       "   {'Time': 2, 'Word': 'AAC', 'Length (Multiplied)': 9},\n",
       "   {'Time': 3, 'Word': 'AACD', 'Length (Multiplied)': 12},\n",
       "   {'Time': 4, 'Word': 'AACDCB', 'Length (Multiplied)': 18},\n",
       "   {'Time': 5, 'Word': 'AACDCBC', 'Length (Multiplied)': 21},\n",
       "   {'Time': 6, 'Word': 'AACDCBCE', 'Length (Multiplied)': 24}]},\n",
       " {'Dummy': {'Words': 'AACDCBCEBCBD', 'Total Length': 36},\n",
       "  'Time': 9,\n",
       "  'Simulation Log': [{'Time': 1, 'Word': 'AA', 'Length (Multiplied)': 6},\n",
       "   {'Time': 2, 'Word': 'AAC', 'Length (Multiplied)': 9},\n",
       "   {'Time': 3, 'Word': 'AACD', 'Length (Multiplied)': 12},\n",
       "   {'Time': 4, 'Word': 'AACDCB', 'Length (Multiplied)': 18},\n",
       "   {'Time': 5, 'Word': 'AACDCBC', 'Length (Multiplied)': 21},\n",
       "   {'Time': 6, 'Word': 'AACDCBCE', 'Length (Multiplied)': 24},\n",
       "   {'Time': 7, 'Word': 'AACDCBCEBC', 'Length (Multiplied)': 30},\n",
       "   {'Time': 8, 'Word': 'AACDCBCEBCB', 'Length (Multiplied)': 33},\n",
       "   {'Time': 9, 'Word': 'AACDCBCEBCBD', 'Length (Multiplied)': 36}]},\n",
       " {'Dummy': {'Words': 'AACDCBCEBCBDAABF', 'Total Length': 48},\n",
       "  'Time': 12,\n",
       "  'Simulation Log': [{'Time': 1, 'Word': 'AA', 'Length (Multiplied)': 6},\n",
       "   {'Time': 2, 'Word': 'AAC', 'Length (Multiplied)': 9},\n",
       "   {'Time': 3, 'Word': 'AACD', 'Length (Multiplied)': 12},\n",
       "   {'Time': 4, 'Word': 'AACDCB', 'Length (Multiplied)': 18},\n",
       "   {'Time': 5, 'Word': 'AACDCBC', 'Length (Multiplied)': 21},\n",
       "   {'Time': 6, 'Word': 'AACDCBCE', 'Length (Multiplied)': 24},\n",
       "   {'Time': 7, 'Word': 'AACDCBCEBC', 'Length (Multiplied)': 30},\n",
       "   {'Time': 8, 'Word': 'AACDCBCEBCB', 'Length (Multiplied)': 33},\n",
       "   {'Time': 9, 'Word': 'AACDCBCEBCBD', 'Length (Multiplied)': 36},\n",
       "   {'Time': 10, 'Word': 'AACDCBCEBCBDAA', 'Length (Multiplied)': 42},\n",
       "   {'Time': 11, 'Word': 'AACDCBCEBCBDAAB', 'Length (Multiplied)': 45},\n",
       "   {'Time': 12, 'Word': 'AACDCBCEBCBDAABF', 'Length (Multiplied)': 48}]},\n",
       " {'Dummy': {'Words': 'AACDCBCEBCBDAABFCBAF', 'Total Length': 60},\n",
       "  'Time': 15,\n",
       "  'Simulation Log': [{'Time': 1, 'Word': 'AA', 'Length (Multiplied)': 6},\n",
       "   {'Time': 2, 'Word': 'AAC', 'Length (Multiplied)': 9},\n",
       "   {'Time': 3, 'Word': 'AACD', 'Length (Multiplied)': 12},\n",
       "   {'Time': 4, 'Word': 'AACDCB', 'Length (Multiplied)': 18},\n",
       "   {'Time': 5, 'Word': 'AACDCBC', 'Length (Multiplied)': 21},\n",
       "   {'Time': 6, 'Word': 'AACDCBCE', 'Length (Multiplied)': 24},\n",
       "   {'Time': 7, 'Word': 'AACDCBCEBC', 'Length (Multiplied)': 30},\n",
       "   {'Time': 8, 'Word': 'AACDCBCEBCB', 'Length (Multiplied)': 33},\n",
       "   {'Time': 9, 'Word': 'AACDCBCEBCBD', 'Length (Multiplied)': 36},\n",
       "   {'Time': 10, 'Word': 'AACDCBCEBCBDAA', 'Length (Multiplied)': 42},\n",
       "   {'Time': 11, 'Word': 'AACDCBCEBCBDAAB', 'Length (Multiplied)': 45},\n",
       "   {'Time': 12, 'Word': 'AACDCBCEBCBDAABF', 'Length (Multiplied)': 48},\n",
       "   {'Time': 13, 'Word': 'AACDCBCEBCBDAABFCB', 'Length (Multiplied)': 54},\n",
       "   {'Time': 14, 'Word': 'AACDCBCEBCBDAABFCBA', 'Length (Multiplied)': 57},\n",
       "   {'Time': 15, 'Word': 'AACDCBCEBCBDAABFCBAF', 'Length (Multiplied)': 60}]}]"
      ]
     },
     "metadata": {},
     "output_type": "display_data"
    }
   ],
   "source": [
    "state: state_space = {'Dummy': {'Words': '', 'Total Length': None},\n",
    "                                   'Time': 0,\n",
    "                                   'Simulation Log': []}\n",
    "params: parameter_space = {'DUMMY D Probability': 0.5,\n",
    " 'DUMMY Length Multiplier': 3,\n",
    " 'FP DUMMY Length-1 DEF Control Action': 'DUMMY Length-1 DEF Equal Weight Option',\n",
    " 'FP DUMMY Length-2 ABC Combo Boundary Action': 'DUMMY Length-2 ABC Equal Weight Option'}\n",
    "\n",
    "experiment = model.create_experiment(state, params, record_trajectory=True)\n",
    "experiment.run(5)\n",
    "trajectories = experiment.trajectories\n",
    "display(experiment.trajectories)"
   ]
  }
 ],
 "metadata": {
  "kernelspec": {
   "display_name": "MSML",
   "language": "python",
   "name": "python3"
  },
  "language_info": {
   "codemirror_mode": {
    "name": "ipython",
    "version": 3
   },
   "file_extension": ".py",
   "mimetype": "text/x-python",
   "name": "python",
   "nbconvert_exporter": "python",
   "pygments_lexer": "ipython3",
   "version": "3.9.19"
  }
 },
 "nbformat": 4,
 "nbformat_minor": 2
}
