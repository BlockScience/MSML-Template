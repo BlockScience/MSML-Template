{
 "cells": [
  {
   "cell_type": "code",
   "execution_count": 1,
   "metadata": {},
   "outputs": [],
   "source": [
    "import sys\n",
    "import os\n",
    "\n",
    "sys.path.append(os.path.abspath('..'))\n",
    "\n",
    "\n",
    "#from math_spec_mapping import load_from_json, write_all_markdown_reports, write_spec_tree, write_overview\n",
    "\n",
    "# For development purposes\n",
    "sys.path.append(os.path.abspath('../..'))\n",
    "from MSML.src.math_spec_mapping import (load_from_json, write_glossary_report)\n",
    "\n",
    "from src import math_spec_json\n",
    "from copy import deepcopy\n",
    "ms = load_from_json(deepcopy(math_spec_json), spec_path=\"../src\")\n",
    "\n",
    "write_folder = \"../reports\"\n",
    "\n",
    "write_glossary_report(ms, write_folder)"
   ]
  },
  {
   "cell_type": "code",
   "execution_count": 2,
   "metadata": {},
   "outputs": [
    {
     "data": {
      "text/plain": [
       "'Built-in space for denoting termination of block'"
      ]
     },
     "execution_count": 2,
     "metadata": {},
     "output_type": "execute_result"
    }
   ],
   "source": [
    "ms.spaces[\"Terminating Space\"].description"
   ]
  },
  {
   "cell_type": "code",
   "execution_count": 3,
   "metadata": {},
   "outputs": [
    {
     "data": {
      "text/plain": [
       "['DUMMY D Probability', 'DUMMY Length Multiplier']"
      ]
     },
     "execution_count": 3,
     "metadata": {},
     "output_type": "execute_result"
    }
   ],
   "source": [
    "ms.parameters.all_parameters"
   ]
  },
  {
   "cell_type": "code",
   "execution_count": 4,
   "metadata": {},
   "outputs": [
    {
     "data": {
      "text/plain": [
       "{'DUMMY D Probability': <MSML.src.math_spec_mapping.Classes.Parameter.Parameter at 0x7f9b20eb00a0>,\n",
       " 'DUMMY Length Multiplier': <MSML.src.math_spec_mapping.Classes.Parameter.Parameter at 0x7f9b20eb0100>}"
      ]
     },
     "execution_count": 4,
     "metadata": {},
     "output_type": "execute_result"
    }
   ],
   "source": [
    "ms.parameters.parameter_map"
   ]
  },
  {
   "cell_type": "code",
   "execution_count": null,
   "metadata": {},
   "outputs": [],
   "source": []
  }
 ],
 "metadata": {
  "kernelspec": {
   "display_name": "MSML",
   "language": "python",
   "name": "python3"
  },
  "language_info": {
   "codemirror_mode": {
    "name": "ipython",
    "version": 3
   },
   "file_extension": ".py",
   "mimetype": "text/x-python",
   "name": "python",
   "nbconvert_exporter": "python",
   "pygments_lexer": "ipython3",
   "version": "3.9.19"
  }
 },
 "nbformat": 4,
 "nbformat_minor": 2
}
