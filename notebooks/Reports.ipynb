{
 "cells": [
  {
   "cell_type": "code",
   "execution_count": 1,
   "metadata": {},
   "outputs": [],
   "source": [
    "import sys\n",
    "import os\n",
    "\n",
    "sys.path.append(os.path.abspath('..'))\n",
    "\n",
    "\n",
    "from math_spec_mapping import load_from_json, write_glossary_report, convert_markdown_to_pdf\n",
    "\n",
    "# For development purposes\n",
    "#sys.path.append(os.path.abspath('../..'))\n",
    "#from MSML.src.math_spec_mapping import (load_from_json, write_glossary_report, convert_markdown_to_pdf)\n",
    "\n",
    "from src import math_spec_json\n",
    "from copy import deepcopy\n",
    "ms = load_from_json(deepcopy(math_spec_json), spec_path=\"../src\")\n",
    "\n",
    "write_folder = \"../reports\"\n",
    "\n",
    "# Write glossary report\n",
    "write_glossary_report(ms, write_folder)\n",
    "# Convert markdown to pdf, make sure you follow the steps in the documentation for installing pandoc and dependencies\n",
    "convert_markdown_to_pdf(\"../reports/Glossary.md\", \"../reports/Glossary.pdf\",pdflatex_path='/Library/TeX/texbin/pdflatex')"
   ]
  },
  {
   "cell_type": "code",
   "execution_count": null,
   "metadata": {},
   "outputs": [],
   "source": []
  }
 ],
 "metadata": {
  "kernelspec": {
   "display_name": "MSML",
   "language": "python",
   "name": "python3"
  },
  "language_info": {
   "codemirror_mode": {
    "name": "ipython",
    "version": 3
   },
   "file_extension": ".py",
   "mimetype": "text/x-python",
   "name": "python",
   "nbconvert_exporter": "python",
   "pygments_lexer": "ipython3",
   "version": "3.9.19"
  }
 },
 "nbformat": 4,
 "nbformat_minor": 2
}
