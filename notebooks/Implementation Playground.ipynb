{
 "cells": [
  {
   "cell_type": "markdown",
   "metadata": {},
   "source": [
    "# Implementation Playground"
   ]
  },
  {
   "cell_type": "code",
   "execution_count": 1,
   "metadata": {},
   "outputs": [
    {
     "ename": "AssertionError",
     "evalue": "No functional parameterization for DUMMY Length-1 DEF Control Action. To fix this error, add FP DUMMY Length-1 DEF Control Action to the parameters passed to ms.build_implementation. Option can be: ['DUMMY Length-1 DEF Equal Weight Option', 'DUMMY Length-1 DEF D Probability Option']",
     "output_type": "error",
     "traceback": [
      "\u001b[0;31m---------------------------------------------------------------------------\u001b[0m",
      "\u001b[0;31mAssertionError\u001b[0m                            Traceback (most recent call last)",
      "Cell \u001b[0;32mIn[1], line 14\u001b[0m\n\u001b[1;32m     10\u001b[0m \u001b[38;5;28;01mfrom\u001b[39;00m \u001b[38;5;21;01msrc\u001b[39;00m \u001b[38;5;28;01mimport\u001b[39;00m math_spec_json\n\u001b[1;32m     12\u001b[0m ms \u001b[38;5;241m=\u001b[39m load_from_json(deepcopy(math_spec_json))\n\u001b[0;32m---> 14\u001b[0m msi \u001b[38;5;241m=\u001b[39m ms\u001b[38;5;241m.\u001b[39mbuild_implementation(params_base)\n\u001b[1;32m     15\u001b[0m state, params \u001b[38;5;241m=\u001b[39m msi\u001b[38;5;241m.\u001b[39mprepare_state_and_params(state_base, params_base,\n\u001b[1;32m     16\u001b[0m                                              state_preperation_functions\u001b[38;5;241m=\u001b[39m[],\n\u001b[1;32m     17\u001b[0m                                              parameter_preperation_functions\u001b[38;5;241m=\u001b[39m[])\n",
      "File \u001b[0;32m~/opt/anaconda3/envs/Aztec/lib/python3.11/site-packages/math_spec_mapping/Classes/MathSpec.py:766\u001b[0m, in \u001b[0;36mMathSpec.build_implementation\u001b[0;34m(self, params)\u001b[0m\n\u001b[1;32m    765\u001b[0m \u001b[38;5;28;01mdef\u001b[39;00m \u001b[38;5;21mbuild_implementation\u001b[39m(\u001b[38;5;28mself\u001b[39m, params):\n\u001b[0;32m--> 766\u001b[0m     \u001b[38;5;28;01mreturn\u001b[39;00m MathSpecImplementation(\u001b[38;5;28mself\u001b[39m, params)\n",
      "File \u001b[0;32m~/opt/anaconda3/envs/Aztec/lib/python3.11/site-packages/math_spec_mapping/Classes/MathSpec.py:773\u001b[0m, in \u001b[0;36mMathSpecImplementation.__init__\u001b[0;34m(self, ms, params)\u001b[0m\n\u001b[1;32m    771\u001b[0m \u001b[38;5;28mself\u001b[39m\u001b[38;5;241m.\u001b[39mms \u001b[38;5;241m=\u001b[39m deepcopy(ms)\n\u001b[1;32m    772\u001b[0m \u001b[38;5;28mself\u001b[39m\u001b[38;5;241m.\u001b[39mparams \u001b[38;5;241m=\u001b[39m params\n\u001b[0;32m--> 773\u001b[0m \u001b[38;5;28mself\u001b[39m\u001b[38;5;241m.\u001b[39mcontrol_actions \u001b[38;5;241m=\u001b[39m \u001b[38;5;28mself\u001b[39m\u001b[38;5;241m.\u001b[39mload_control_actions()\n\u001b[1;32m    774\u001b[0m \u001b[38;5;28mself\u001b[39m\u001b[38;5;241m.\u001b[39mboundary_actions \u001b[38;5;241m=\u001b[39m \u001b[38;5;28mself\u001b[39m\u001b[38;5;241m.\u001b[39mload_boundary_actions()\n\u001b[1;32m    775\u001b[0m \u001b[38;5;28mself\u001b[39m\u001b[38;5;241m.\u001b[39mpolicies \u001b[38;5;241m=\u001b[39m \u001b[38;5;28mself\u001b[39m\u001b[38;5;241m.\u001b[39mload_policies()\n",
      "File \u001b[0;32m~/opt/anaconda3/envs/Aztec/lib/python3.11/site-packages/math_spec_mapping/Classes/MathSpec.py:793\u001b[0m, in \u001b[0;36mMathSpecImplementation.load_control_actions\u001b[0;34m(self)\u001b[0m\n\u001b[1;32m    790\u001b[0m     opt \u001b[38;5;241m=\u001b[39m opts[\u001b[38;5;241m0\u001b[39m]\n\u001b[1;32m    791\u001b[0m \u001b[38;5;28;01melse\u001b[39;00m:\n\u001b[1;32m    792\u001b[0m     \u001b[38;5;28;01massert\u001b[39;00m (\n\u001b[0;32m--> 793\u001b[0m         \u001b[38;5;124m\"\u001b[39m\u001b[38;5;124mFP \u001b[39m\u001b[38;5;132;01m{}\u001b[39;00m\u001b[38;5;124m\"\u001b[39m\u001b[38;5;241m.\u001b[39mformat(ca\u001b[38;5;241m.\u001b[39mname) \u001b[38;5;129;01min\u001b[39;00m \u001b[38;5;28mself\u001b[39m\u001b[38;5;241m.\u001b[39mparams\n\u001b[1;32m    794\u001b[0m     ), \u001b[38;5;124m\"\u001b[39m\u001b[38;5;124mNo functional parameterization for \u001b[39m\u001b[38;5;132;01m{}\u001b[39;00m\u001b[38;5;124m. To fix this error, add \u001b[39m\u001b[38;5;132;01m{}\u001b[39;00m\u001b[38;5;124m to the parameters passed to ms.build_implementation. Option can be: \u001b[39m\u001b[38;5;132;01m{}\u001b[39;00m\u001b[38;5;124m\"\u001b[39m\u001b[38;5;241m.\u001b[39mformat(\n\u001b[1;32m    795\u001b[0m         ca\u001b[38;5;241m.\u001b[39mname, \u001b[38;5;124m\"\u001b[39m\u001b[38;5;124mFP \u001b[39m\u001b[38;5;124m\"\u001b[39m \u001b[38;5;241m+\u001b[39m ca\u001b[38;5;241m.\u001b[39mname, [x\u001b[38;5;241m.\u001b[39mname \u001b[38;5;28;01mfor\u001b[39;00m x \u001b[38;5;129;01min\u001b[39;00m opts]\n\u001b[1;32m    796\u001b[0m     )\n\u001b[1;32m    797\u001b[0m     opt \u001b[38;5;241m=\u001b[39m \u001b[38;5;28mself\u001b[39m\u001b[38;5;241m.\u001b[39mms\u001b[38;5;241m.\u001b[39mfunctional_parameters[\u001b[38;5;124m\"\u001b[39m\u001b[38;5;124mFP \u001b[39m\u001b[38;5;132;01m{}\u001b[39;00m\u001b[38;5;124m\"\u001b[39m\u001b[38;5;241m.\u001b[39mformat(ca\u001b[38;5;241m.\u001b[39mname)][\n\u001b[1;32m    798\u001b[0m         \u001b[38;5;28mself\u001b[39m\u001b[38;5;241m.\u001b[39mparams[\u001b[38;5;124m\"\u001b[39m\u001b[38;5;124mFP \u001b[39m\u001b[38;5;132;01m{}\u001b[39;00m\u001b[38;5;124m\"\u001b[39m\u001b[38;5;241m.\u001b[39mformat(ca\u001b[38;5;241m.\u001b[39mname)]\n\u001b[1;32m    799\u001b[0m     ]\n\u001b[1;32m    801\u001b[0m \u001b[38;5;28;01mif\u001b[39;00m \u001b[38;5;124m\"\u001b[39m\u001b[38;5;124mpython\u001b[39m\u001b[38;5;124m\"\u001b[39m \u001b[38;5;129;01mnot\u001b[39;00m \u001b[38;5;129;01min\u001b[39;00m opt\u001b[38;5;241m.\u001b[39mimplementations:\n",
      "\u001b[0;31mAssertionError\u001b[0m: No functional parameterization for DUMMY Length-1 DEF Control Action. To fix this error, add FP DUMMY Length-1 DEF Control Action to the parameters passed to ms.build_implementation. Option can be: ['DUMMY Length-1 DEF Equal Weight Option', 'DUMMY Length-1 DEF D Probability Option']"
     ]
    }
   ],
   "source": [
    "import sys\n",
    "import os\n",
    "\n",
    "sys.path.append(os.path.abspath('..'))\n",
    "\n",
    "\n",
    "from simulation import params_base, state_base\n",
    "from math_spec_mapping import load_from_json\n",
    "from copy import deepcopy\n",
    "from src import math_spec_json\n",
    "\n",
    "ms = load_from_json(deepcopy(math_spec_json))\n",
    "\n",
    "msi = ms.build_implementation(params_base)\n",
    "state, params = msi.prepare_state_and_params(state_base, params_base,\n",
    "                                             state_preperation_functions=[],\n",
    "                                             parameter_preperation_functions=[])\n"
   ]
  },
  {
   "cell_type": "markdown",
   "metadata": {},
   "source": []
  },
  {
   "cell_type": "code",
   "execution_count": null,
   "metadata": {},
   "outputs": [],
   "source": []
  }
 ],
 "metadata": {
  "kernelspec": {
   "display_name": "Aztec",
   "language": "python",
   "name": "python3"
  },
  "language_info": {
   "codemirror_mode": {
    "name": "ipython",
    "version": 3
   },
   "file_extension": ".py",
   "mimetype": "text/x-python",
   "name": "python",
   "nbconvert_exporter": "python",
   "pygments_lexer": "ipython3",
   "version": "3.11.8"
  }
 },
 "nbformat": 4,
 "nbformat_minor": 2
}
