{
 "cells": [
  {
   "cell_type": "markdown",
   "metadata": {},
   "source": [
    "# Implementation Playground"
   ]
  },
  {
   "cell_type": "code",
   "execution_count": 1,
   "metadata": {},
   "outputs": [
    {
     "name": "stdout",
     "output_type": "stream",
     "text": [
      "No python implementation for DUMMY Length-1 DEF Control Action / DUMMY Length-1 DEF Equal Weight Option. To fix this, go to Implementations/Python/ControlActions and add DUMMY Length-1 DEF Equal Weight Option\n",
      "No python implementation for DUMMY Length-1 ABC Boundary Action / Length-1 ABC Equal Weight Option. To fix this, go to Implementations/Python/BoundaryActions and add Length-1 ABC Equal Weight Option\n",
      "No python implementation for DUMMY Length-2 ABC Combo Boundary Action / DUMMY Length-2 ABC Equal Weight Option. To fix this, go to Implementations/Python/BoundaryActions and add DUMMY Length-2 ABC Equal Weight Option\n",
      "No python implementation for DUMMY Letter Count Policy / DUMMY Letter Count Policy V1. To fix this, go to Implementations/Python/Policies and add DUMMY Letter Count Policy V1\n",
      "No python implementation for DUMMY Log Results Mechanism. To fix this, go to Implementations/Python/Mechanisms and add DUMMY Log Results Mechanism\n",
      "No python implementation for DUMMY Nominal Length Stateful Metric. To fix this, go to Implementations/Python/StatefulMetrics and add DUMMY Nominal Length Stateful Metric\n",
      "The following wirings were not loading: ['DUMMY Length-1 Boundary Wiring', 'DUMMY Control Wiring', 'DUMMY Length-2 Boundary Wiring']\n"
     ]
    }
   ],
   "source": [
    "import sys\n",
    "import os\n",
    "\n",
    "sys.path.append(os.path.abspath('..'))\n",
    "\n",
    "\n",
    "from simulation import params_base, state_base\n",
    "from math_spec_mapping import load_from_json\n",
    "from copy import deepcopy\n",
    "from src import math_spec_json\n",
    "\n",
    "ms = load_from_json(deepcopy(math_spec_json))\n",
    "\n",
    "msi = ms.build_implementation(params_base)\n",
    "state, params = msi.prepare_state_and_params(state_base, params_base,\n",
    "                                             state_preperation_functions=[],\n",
    "                                             parameter_preperation_functions=[])\n"
   ]
  },
  {
   "cell_type": "markdown",
   "metadata": {},
   "source": []
  },
  {
   "cell_type": "code",
   "execution_count": 2,
   "metadata": {},
   "outputs": [
    {
     "data": {
      "text/plain": [
       "{}"
      ]
     },
     "execution_count": 2,
     "metadata": {},
     "output_type": "execute_result"
    }
   ],
   "source": [
    "msi.control_actions"
   ]
  },
  {
   "cell_type": "code",
   "execution_count": null,
   "metadata": {},
   "outputs": [],
   "source": []
  }
 ],
 "metadata": {
  "kernelspec": {
   "display_name": "Aztec",
   "language": "python",
   "name": "python3"
  },
  "language_info": {
   "codemirror_mode": {
    "name": "ipython",
    "version": 3
   },
   "file_extension": ".py",
   "mimetype": "text/x-python",
   "name": "python",
   "nbconvert_exporter": "python",
   "pygments_lexer": "ipython3",
   "version": "3.11.8"
  }
 },
 "nbformat": 4,
 "nbformat_minor": 2
}
